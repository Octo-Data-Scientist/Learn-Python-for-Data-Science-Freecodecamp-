{
 "cells": [
  {
   "metadata": {},
   "cell_type": "markdown",
   "source": "# 1. Hello World",
   "id": "d868dc85d020d83e"
  },
  {
   "cell_type": "code",
   "id": "initial_id",
   "metadata": {
    "collapsed": true,
    "ExecuteTime": {
     "end_time": "2025-07-02T20:13:56.464083Z",
     "start_time": "2025-07-02T20:13:56.458828Z"
    }
   },
   "source": [
    "# printing my first message\n",
    "print(\"Hello World!\")"
   ],
   "outputs": [
    {
     "name": "stdout",
     "output_type": "stream",
     "text": [
      "Hello World!\n"
     ]
    }
   ],
   "execution_count": 45
  },
  {
   "metadata": {
    "ExecuteTime": {
     "end_time": "2025-07-02T20:13:56.563603Z",
     "start_time": "2025-07-02T20:13:56.556541Z"
    }
   },
   "cell_type": "code",
   "source": " \"Hello World!\"",
   "id": "b4f312e3c39e0b5a",
   "outputs": [
    {
     "data": {
      "text/plain": [
       "'Hello World!'"
      ]
     },
     "execution_count": 46,
     "metadata": {},
     "output_type": "execute_result"
    }
   ],
   "execution_count": 46
  },
  {
   "metadata": {
    "ExecuteTime": {
     "end_time": "2025-07-02T20:13:56.631861Z",
     "start_time": "2025-07-02T20:13:56.626346Z"
    }
   },
   "cell_type": "code",
   "source": [
    "# printing my name\n",
    "print(\"Majesty\")"
   ],
   "id": "e75a68611bf5815f",
   "outputs": [
    {
     "name": "stdout",
     "output_type": "stream",
     "text": [
      "Majesty\n"
     ]
    }
   ],
   "execution_count": 47
  },
  {
   "metadata": {
    "ExecuteTime": {
     "end_time": "2025-07-02T20:13:56.688324Z",
     "start_time": "2025-07-02T20:13:56.684114Z"
    }
   },
   "cell_type": "code",
   "source": "print(26)",
   "id": "c9b206aac350db",
   "outputs": [
    {
     "name": "stdout",
     "output_type": "stream",
     "text": [
      "26\n"
     ]
    }
   ],
   "execution_count": 48
  },
  {
   "metadata": {},
   "cell_type": "markdown",
   "source": "# 2. Data Types",
   "id": "53e78c9e18dfd1c6"
  },
  {
   "metadata": {
    "ExecuteTime": {
     "end_time": "2025-07-02T20:13:56.757574Z",
     "start_time": "2025-07-02T20:13:56.749109Z"
    }
   },
   "cell_type": "code",
   "source": "1 + 3",
   "id": "6f388a8a5e87264e",
   "outputs": [
    {
     "data": {
      "text/plain": [
       "4"
      ]
     },
     "execution_count": 49,
     "metadata": {},
     "output_type": "execute_result"
    }
   ],
   "execution_count": 49
  },
  {
   "metadata": {
    "ExecuteTime": {
     "end_time": "2025-07-02T20:13:56.842472Z",
     "start_time": "2025-07-02T20:13:56.836105Z"
    }
   },
   "cell_type": "code",
   "source": "4 - 1",
   "id": "405a764f6d915ad6",
   "outputs": [
    {
     "data": {
      "text/plain": [
       "3"
      ]
     },
     "execution_count": 50,
     "metadata": {},
     "output_type": "execute_result"
    }
   ],
   "execution_count": 50
  },
  {
   "metadata": {
    "ExecuteTime": {
     "end_time": "2025-07-02T20:13:56.904235Z",
     "start_time": "2025-07-02T20:13:56.896457Z"
    }
   },
   "cell_type": "code",
   "source": "type(3)",
   "id": "b3a8626ec026171c",
   "outputs": [
    {
     "data": {
      "text/plain": [
       "int"
      ]
     },
     "execution_count": 51,
     "metadata": {},
     "output_type": "execute_result"
    }
   ],
   "execution_count": 51
  },
  {
   "metadata": {
    "ExecuteTime": {
     "end_time": "2025-07-02T20:13:56.967382Z",
     "start_time": "2025-07-02T20:13:56.958764Z"
    }
   },
   "cell_type": "code",
   "source": "type(2.4)",
   "id": "27605efa84ccd72",
   "outputs": [
    {
     "data": {
      "text/plain": [
       "float"
      ]
     },
     "execution_count": 52,
     "metadata": {},
     "output_type": "execute_result"
    }
   ],
   "execution_count": 52
  },
  {
   "metadata": {
    "ExecuteTime": {
     "end_time": "2025-07-02T20:13:57.033910Z",
     "start_time": "2025-07-02T20:13:57.023916Z"
    }
   },
   "cell_type": "code",
   "source": "type(True)",
   "id": "5d2003962331b5ee",
   "outputs": [
    {
     "data": {
      "text/plain": [
       "bool"
      ]
     },
     "execution_count": 53,
     "metadata": {},
     "output_type": "execute_result"
    }
   ],
   "execution_count": 53
  },
  {
   "metadata": {
    "ExecuteTime": {
     "end_time": "2025-07-02T20:13:57.095693Z",
     "start_time": "2025-07-02T20:13:57.086881Z"
    }
   },
   "cell_type": "code",
   "source": "type(False)",
   "id": "19787f07aa640ece",
   "outputs": [
    {
     "data": {
      "text/plain": [
       "bool"
      ]
     },
     "execution_count": 54,
     "metadata": {},
     "output_type": "execute_result"
    }
   ],
   "execution_count": 54
  },
  {
   "metadata": {
    "ExecuteTime": {
     "end_time": "2025-07-02T20:13:57.155235Z",
     "start_time": "2025-07-02T20:13:57.148567Z"
    }
   },
   "cell_type": "code",
   "source": "type(\"Hello World!\")",
   "id": "6f6c35df9415b7b",
   "outputs": [
    {
     "data": {
      "text/plain": [
       "str"
      ]
     },
     "execution_count": 55,
     "metadata": {},
     "output_type": "execute_result"
    }
   ],
   "execution_count": 55
  },
  {
   "metadata": {
    "ExecuteTime": {
     "end_time": "2025-07-02T20:13:57.218195Z",
     "start_time": "2025-07-02T20:13:57.211070Z"
    }
   },
   "cell_type": "code",
   "source": "\"Hello World!\".upper()",
   "id": "6a0b62e4d4a8da1c",
   "outputs": [
    {
     "data": {
      "text/plain": [
       "'HELLO WORLD!'"
      ]
     },
     "execution_count": 56,
     "metadata": {},
     "output_type": "execute_result"
    }
   ],
   "execution_count": 56
  },
  {
   "metadata": {
    "ExecuteTime": {
     "end_time": "2025-07-02T20:13:57.279765Z",
     "start_time": "2025-07-02T20:13:57.271121Z"
    }
   },
   "cell_type": "code",
   "source": "\"Hello World!\".lower()",
   "id": "e3842ddfdae6ac5a",
   "outputs": [
    {
     "data": {
      "text/plain": [
       "'hello world!'"
      ]
     },
     "execution_count": 57,
     "metadata": {},
     "output_type": "execute_result"
    }
   ],
   "execution_count": 57
  },
  {
   "metadata": {
    "ExecuteTime": {
     "end_time": "2025-07-02T20:13:57.364262Z",
     "start_time": "2025-07-02T20:13:57.354071Z"
    }
   },
   "cell_type": "code",
   "source": "\"Hello World!\".title()",
   "id": "b538a9e4e9b0408e",
   "outputs": [
    {
     "data": {
      "text/plain": [
       "'Hello World!'"
      ]
     },
     "execution_count": 58,
     "metadata": {},
     "output_type": "execute_result"
    }
   ],
   "execution_count": 58
  },
  {
   "metadata": {
    "ExecuteTime": {
     "end_time": "2025-07-02T20:13:57.422294Z",
     "start_time": "2025-07-02T20:13:57.416162Z"
    }
   },
   "cell_type": "code",
   "source": "\"Hello World!\".count(\"l\")",
   "id": "9abcf3458a9cf5e8",
   "outputs": [
    {
     "data": {
      "text/plain": [
       "3"
      ]
     },
     "execution_count": 59,
     "metadata": {},
     "output_type": "execute_result"
    }
   ],
   "execution_count": 59
  },
  {
   "metadata": {
    "ExecuteTime": {
     "end_time": "2025-07-02T20:13:57.492298Z",
     "start_time": "2025-07-02T20:13:57.483948Z"
    }
   },
   "cell_type": "code",
   "source": "\"Hello World!\".replace(\"o\", \"u\")",
   "id": "3804a976ba3830bd",
   "outputs": [
    {
     "data": {
      "text/plain": [
       "'Hellu Wurld!'"
      ]
     },
     "execution_count": 60,
     "metadata": {},
     "output_type": "execute_result"
    }
   ],
   "execution_count": 60
  },
  {
   "metadata": {},
   "cell_type": "markdown",
   "source": "# 3. Variables",
   "id": "35e46428726003e0"
  },
  {
   "metadata": {
    "ExecuteTime": {
     "end_time": "2025-07-02T20:13:57.551643Z",
     "start_time": "2025-07-02T20:13:57.546115Z"
    }
   },
   "cell_type": "code",
   "source": "message_1 = \"I'm learning Python\"",
   "id": "e738a1d1d0bd9c6f",
   "outputs": [],
   "execution_count": 61
  },
  {
   "metadata": {
    "ExecuteTime": {
     "end_time": "2025-07-02T20:13:57.589718Z",
     "start_time": "2025-07-02T20:13:57.583722Z"
    }
   },
   "cell_type": "code",
   "source": "message_1",
   "id": "5d3f5091bdf4b6a5",
   "outputs": [
    {
     "data": {
      "text/plain": [
       "\"I'm learning Python\""
      ]
     },
     "execution_count": 62,
     "metadata": {},
     "output_type": "execute_result"
    }
   ],
   "execution_count": 62
  },
  {
   "metadata": {
    "ExecuteTime": {
     "end_time": "2025-07-02T20:13:57.639195Z",
     "start_time": "2025-07-02T20:13:57.633595Z"
    }
   },
   "cell_type": "code",
   "source": "message_2 = \"and it's fun!\"",
   "id": "44b0dcf086f45cb1",
   "outputs": [],
   "execution_count": 63
  },
  {
   "metadata": {
    "ExecuteTime": {
     "end_time": "2025-07-02T20:13:57.697338Z",
     "start_time": "2025-07-02T20:13:57.689879Z"
    }
   },
   "cell_type": "code",
   "source": "message_2",
   "id": "a9c223374f8e7095",
   "outputs": [
    {
     "data": {
      "text/plain": [
       "\"and it's fun!\""
      ]
     },
     "execution_count": 64,
     "metadata": {},
     "output_type": "execute_result"
    }
   ],
   "execution_count": 64
  },
  {
   "metadata": {
    "ExecuteTime": {
     "end_time": "2025-07-02T20:13:57.758130Z",
     "start_time": "2025-07-02T20:13:57.751533Z"
    }
   },
   "cell_type": "code",
   "source": "message_1 + message_2",
   "id": "d3ddb6a9fd974411",
   "outputs": [
    {
     "data": {
      "text/plain": [
       "\"I'm learning Pythonand it's fun!\""
      ]
     },
     "execution_count": 65,
     "metadata": {},
     "output_type": "execute_result"
    }
   ],
   "execution_count": 65
  },
  {
   "metadata": {
    "ExecuteTime": {
     "end_time": "2025-07-02T20:13:57.821069Z",
     "start_time": "2025-07-02T20:13:57.814014Z"
    }
   },
   "cell_type": "code",
   "source": [
    "message = message_1 + \" \" + message_2\n",
    "message"
   ],
   "id": "ad91a05cd424739a",
   "outputs": [
    {
     "data": {
      "text/plain": [
       "\"I'm learning Python and it's fun!\""
      ]
     },
     "execution_count": 66,
     "metadata": {},
     "output_type": "execute_result"
    }
   ],
   "execution_count": 66
  },
  {
   "metadata": {
    "ExecuteTime": {
     "end_time": "2025-07-02T20:13:57.886092Z",
     "start_time": "2025-07-02T20:13:57.878130Z"
    }
   },
   "cell_type": "code",
   "source": "f\"{message_1} {message_2}\"",
   "id": "fc72986c17bda72f",
   "outputs": [
    {
     "data": {
      "text/plain": [
       "\"I'm learning Python and it's fun!\""
      ]
     },
     "execution_count": 67,
     "metadata": {},
     "output_type": "execute_result"
    }
   ],
   "execution_count": 67
  },
  {
   "metadata": {},
   "cell_type": "markdown",
   "source": "# 4. List",
   "id": "c34b35329d4e938b"
  },
  {
   "metadata": {
    "ExecuteTime": {
     "end_time": "2025-07-02T20:13:57.948741Z",
     "start_time": "2025-07-02T20:13:57.941582Z"
    }
   },
   "cell_type": "code",
   "source": "countries = [\"United States\", \"India\", \"China\", \"Brazil\"]",
   "id": "cedc2007972b957b",
   "outputs": [],
   "execution_count": 68
  },
  {
   "metadata": {
    "ExecuteTime": {
     "end_time": "2025-07-02T20:13:58.003357Z",
     "start_time": "2025-07-02T20:13:57.994203Z"
    }
   },
   "cell_type": "code",
   "source": "countries",
   "id": "10ebccbe5d171e2d",
   "outputs": [
    {
     "data": {
      "text/plain": [
       "['United States', 'India', 'China', 'Brazil']"
      ]
     },
     "execution_count": 69,
     "metadata": {},
     "output_type": "execute_result"
    }
   ],
   "execution_count": 69
  },
  {
   "metadata": {
    "ExecuteTime": {
     "end_time": "2025-07-02T20:13:58.059840Z",
     "start_time": "2025-07-02T20:13:58.051878Z"
    }
   },
   "cell_type": "code",
   "source": "countries[0]",
   "id": "a2d2d8c3c1575c46",
   "outputs": [
    {
     "data": {
      "text/plain": [
       "'United States'"
      ]
     },
     "execution_count": 70,
     "metadata": {},
     "output_type": "execute_result"
    }
   ],
   "execution_count": 70
  },
  {
   "metadata": {
    "ExecuteTime": {
     "end_time": "2025-07-02T20:13:58.135330Z",
     "start_time": "2025-07-02T20:13:58.126334Z"
    }
   },
   "cell_type": "code",
   "source": "countries[1]",
   "id": "955462e4603a245b",
   "outputs": [
    {
     "data": {
      "text/plain": [
       "'India'"
      ]
     },
     "execution_count": 71,
     "metadata": {},
     "output_type": "execute_result"
    }
   ],
   "execution_count": 71
  },
  {
   "metadata": {
    "ExecuteTime": {
     "end_time": "2025-07-02T20:13:58.210156Z",
     "start_time": "2025-07-02T20:13:58.201563Z"
    }
   },
   "cell_type": "code",
   "source": "countries[2]",
   "id": "582689001998ee43",
   "outputs": [
    {
     "data": {
      "text/plain": [
       "'China'"
      ]
     },
     "execution_count": 72,
     "metadata": {},
     "output_type": "execute_result"
    }
   ],
   "execution_count": 72
  },
  {
   "metadata": {
    "ExecuteTime": {
     "end_time": "2025-07-02T20:13:58.285229Z",
     "start_time": "2025-07-02T20:13:58.276345Z"
    }
   },
   "cell_type": "code",
   "source": "countries[3]",
   "id": "296311e7900e929d",
   "outputs": [
    {
     "data": {
      "text/plain": [
       "'Brazil'"
      ]
     },
     "execution_count": 73,
     "metadata": {},
     "output_type": "execute_result"
    }
   ],
   "execution_count": 73
  },
  {
   "metadata": {
    "ExecuteTime": {
     "end_time": "2025-07-02T20:13:58.346348Z",
     "start_time": "2025-07-02T20:13:58.336513Z"
    }
   },
   "cell_type": "code",
   "source": "countries[-1]",
   "id": "192d1bf27873542a",
   "outputs": [
    {
     "data": {
      "text/plain": [
       "'Brazil'"
      ]
     },
     "execution_count": 74,
     "metadata": {},
     "output_type": "execute_result"
    }
   ],
   "execution_count": 74
  },
  {
   "metadata": {
    "ExecuteTime": {
     "end_time": "2025-07-02T20:13:58.405543Z",
     "start_time": "2025-07-02T20:13:58.396828Z"
    }
   },
   "cell_type": "code",
   "source": "countries[-4]",
   "id": "b374522b12a0ac40",
   "outputs": [
    {
     "data": {
      "text/plain": [
       "'United States'"
      ]
     },
     "execution_count": 75,
     "metadata": {},
     "output_type": "execute_result"
    }
   ],
   "execution_count": 75
  },
  {
   "metadata": {
    "ExecuteTime": {
     "end_time": "2025-07-02T20:13:58.469904Z",
     "start_time": "2025-07-02T20:13:58.465283Z"
    }
   },
   "cell_type": "code",
   "source": [
    "# Slicing\n",
    "# list_name[start:stop]"
   ],
   "id": "966cb5e0e278f743",
   "outputs": [],
   "execution_count": 76
  },
  {
   "metadata": {
    "ExecuteTime": {
     "end_time": "2025-07-02T20:13:58.508202Z",
     "start_time": "2025-07-02T20:13:58.501294Z"
    }
   },
   "cell_type": "code",
   "source": "countries[0:3]",
   "id": "44e10935b7abe539",
   "outputs": [
    {
     "data": {
      "text/plain": [
       "['United States', 'India', 'China']"
      ]
     },
     "execution_count": 77,
     "metadata": {},
     "output_type": "execute_result"
    }
   ],
   "execution_count": 77
  },
  {
   "metadata": {
    "ExecuteTime": {
     "end_time": "2025-07-02T20:13:58.562707Z",
     "start_time": "2025-07-02T20:13:58.553773Z"
    }
   },
   "cell_type": "code",
   "source": "countries[0:1]",
   "id": "caa0922f7568d78b",
   "outputs": [
    {
     "data": {
      "text/plain": [
       "['United States']"
      ]
     },
     "execution_count": 78,
     "metadata": {},
     "output_type": "execute_result"
    }
   ],
   "execution_count": 78
  },
  {
   "metadata": {
    "ExecuteTime": {
     "end_time": "2025-07-02T20:13:58.619671Z",
     "start_time": "2025-07-02T20:13:58.611346Z"
    }
   },
   "cell_type": "code",
   "source": "countries[1:]",
   "id": "5b186bde8a2424e2",
   "outputs": [
    {
     "data": {
      "text/plain": [
       "['India', 'China', 'Brazil']"
      ]
     },
     "execution_count": 79,
     "metadata": {},
     "output_type": "execute_result"
    }
   ],
   "execution_count": 79
  },
  {
   "metadata": {
    "ExecuteTime": {
     "end_time": "2025-07-02T20:13:58.674075Z",
     "start_time": "2025-07-02T20:13:58.667621Z"
    }
   },
   "cell_type": "code",
   "source": "countries[:3]",
   "id": "a459b378b3eaa19",
   "outputs": [
    {
     "data": {
      "text/plain": [
       "['United States', 'India', 'China']"
      ]
     },
     "execution_count": 80,
     "metadata": {},
     "output_type": "execute_result"
    }
   ],
   "execution_count": 80
  },
  {
   "metadata": {},
   "cell_type": "markdown",
   "source": "## 4.0.1 Adding Elements to a list",
   "id": "f5593bab92e1b041"
  },
  {
   "metadata": {
    "ExecuteTime": {
     "end_time": "2025-07-02T20:13:58.732590Z",
     "start_time": "2025-07-02T20:13:58.724159Z"
    }
   },
   "cell_type": "code",
   "source": "countries",
   "id": "3cd124316f7941bc",
   "outputs": [
    {
     "data": {
      "text/plain": [
       "['United States', 'India', 'China', 'Brazil']"
      ]
     },
     "execution_count": 81,
     "metadata": {},
     "output_type": "execute_result"
    }
   ],
   "execution_count": 81
  },
  {
   "metadata": {
    "ExecuteTime": {
     "end_time": "2025-07-02T20:13:58.789581Z",
     "start_time": "2025-07-02T20:13:58.783620Z"
    }
   },
   "cell_type": "code",
   "source": [
    "# append: add a new element at the end of a list\n",
    "countries.append(\"Canada\")\n",
    "countries"
   ],
   "id": "2269837c05ee4e09",
   "outputs": [
    {
     "data": {
      "text/plain": [
       "['United States', 'India', 'China', 'Brazil', 'Canada']"
      ]
     },
     "execution_count": 82,
     "metadata": {},
     "output_type": "execute_result"
    }
   ],
   "execution_count": 82
  },
  {
   "metadata": {
    "ExecuteTime": {
     "end_time": "2025-07-02T20:13:58.848637Z",
     "start_time": "2025-07-02T20:13:58.841232Z"
    }
   },
   "cell_type": "code",
   "source": [
    "# insert: add a new element in a specified position\n",
    "countries.insert(0, \"Spain\")\n",
    "countries"
   ],
   "id": "5c5d6c6d036688c4",
   "outputs": [
    {
     "data": {
      "text/plain": [
       "['Spain', 'United States', 'India', 'China', 'Brazil', 'Canada']"
      ]
     },
     "execution_count": 83,
     "metadata": {},
     "output_type": "execute_result"
    }
   ],
   "execution_count": 83
  },
  {
   "metadata": {
    "ExecuteTime": {
     "end_time": "2025-07-02T20:13:58.902522Z",
     "start_time": "2025-07-02T20:13:58.896058Z"
    }
   },
   "cell_type": "code",
   "source": [
    "# joining list using the \"+\" operator\n",
    "countries_2 = [\"UK\", \"Germany\", \"Austria\"]"
   ],
   "id": "79fc0a94b1b43f9e",
   "outputs": [],
   "execution_count": 84
  },
  {
   "metadata": {
    "ExecuteTime": {
     "end_time": "2025-07-02T20:13:59.011213Z",
     "start_time": "2025-07-02T20:13:58.998669Z"
    }
   },
   "cell_type": "code",
   "source": "countries + countries_2",
   "id": "10e15584abac3ede",
   "outputs": [
    {
     "data": {
      "text/plain": [
       "['Spain',\n",
       " 'United States',\n",
       " 'India',\n",
       " 'China',\n",
       " 'Brazil',\n",
       " 'Canada',\n",
       " 'UK',\n",
       " 'Germany',\n",
       " 'Austria']"
      ]
     },
     "execution_count": 85,
     "metadata": {},
     "output_type": "execute_result"
    }
   ],
   "execution_count": 85
  },
  {
   "metadata": {
    "ExecuteTime": {
     "end_time": "2025-07-02T20:13:59.074265Z",
     "start_time": "2025-07-02T20:13:59.066414Z"
    }
   },
   "cell_type": "code",
   "source": [
    "# nested list\n",
    "nested_list = [countries, countries_2]\n",
    "nested_list"
   ],
   "id": "481d2e6374cbbdde",
   "outputs": [
    {
     "data": {
      "text/plain": [
       "[['Spain', 'United States', 'India', 'China', 'Brazil', 'Canada'],\n",
       " ['UK', 'Germany', 'Austria']]"
      ]
     },
     "execution_count": 86,
     "metadata": {},
     "output_type": "execute_result"
    }
   ],
   "execution_count": 86
  },
  {
   "metadata": {},
   "cell_type": "markdown",
   "source": "## 4.0.2 Removing elements from a list",
   "id": "f1358bbe8513b6b6"
  },
  {
   "metadata": {
    "ExecuteTime": {
     "end_time": "2025-07-02T20:13:59.137969Z",
     "start_time": "2025-07-02T20:13:59.131108Z"
    }
   },
   "cell_type": "code",
   "source": [
    "print(countries)\n",
    "\n",
    "# .remove() Removes the first matching value\n",
    "countries.remove(\"United States\")\n",
    "print(countries)\n",
    "\n",
    "# .pop() Removes an item at an specific index and then returns it.\n",
    "countries.pop(0)\n",
    "print(countries)\n",
    "\n",
    "# del: removes an item at an specific index\n",
    "del countries[0]\n",
    "print(countries)"
   ],
   "id": "18078d7119f8ec84",
   "outputs": [
    {
     "name": "stdout",
     "output_type": "stream",
     "text": [
      "['Spain', 'United States', 'India', 'China', 'Brazil', 'Canada']\n",
      "['Spain', 'India', 'China', 'Brazil', 'Canada']\n",
      "['India', 'China', 'Brazil', 'Canada']\n",
      "['China', 'Brazil', 'Canada']\n"
     ]
    }
   ],
   "execution_count": 87
  },
  {
   "metadata": {},
   "cell_type": "markdown",
   "source": "## 4.0.3 Sorting a list",
   "id": "c73d3865132117c5"
  },
  {
   "metadata": {
    "ExecuteTime": {
     "end_time": "2025-07-02T20:15:02.038597Z",
     "start_time": "2025-07-02T20:15:02.033920Z"
    }
   },
   "cell_type": "code",
   "source": [
    "numbers = [4, 3, 10, 7, 1, 2]\n",
    "numbers.sort()\n",
    "print(numbers)"
   ],
   "id": "83623335e0e66f9a",
   "outputs": [
    {
     "name": "stdout",
     "output_type": "stream",
     "text": [
      "[1, 2, 3, 4, 7, 10]\n"
     ]
    }
   ],
   "execution_count": 89
  },
  {
   "metadata": {
    "ExecuteTime": {
     "end_time": "2025-07-02T20:15:22.174032Z",
     "start_time": "2025-07-02T20:15:22.168535Z"
    }
   },
   "cell_type": "code",
   "source": [
    "numbers = [4, 3, 10, 7, 1, 2]\n",
    "numbers.sort(reverse = True)\n",
    "print(numbers)"
   ],
   "id": "95a03075821d65b1",
   "outputs": [
    {
     "name": "stdout",
     "output_type": "stream",
     "text": [
      "[10, 7, 4, 3, 2, 1]\n"
     ]
    }
   ],
   "execution_count": 90
  },
  {
   "metadata": {},
   "cell_type": "markdown",
   "source": "## 4.0.4 Update the values in a list",
   "id": "ec3994371fd431b1"
  },
  {
   "metadata": {
    "ExecuteTime": {
     "end_time": "2025-07-02T20:16:12.839415Z",
     "start_time": "2025-07-02T20:16:12.831217Z"
    }
   },
   "cell_type": "code",
   "source": [
    "numbers[0] = 1000\n",
    "numbers"
   ],
   "id": "6419d1882b3adfaa",
   "outputs": [
    {
     "data": {
      "text/plain": [
       "[1000, 7, 4, 3, 2, 1]"
      ]
     },
     "execution_count": 91,
     "metadata": {},
     "output_type": "execute_result"
    }
   ],
   "execution_count": 91
  },
  {
   "metadata": {},
   "cell_type": "markdown",
   "source": "## 4.0.5 Copying a list",
   "id": "bad5c378400bdfcc"
  },
  {
   "metadata": {
    "ExecuteTime": {
     "end_time": "2025-07-02T20:19:50.684325Z",
     "start_time": "2025-07-02T20:19:50.673869Z"
    }
   },
   "cell_type": "code",
   "source": [
    "new_list = countries[:]\n",
    "new_list"
   ],
   "id": "94164cfdb232fa0a",
   "outputs": [
    {
     "data": {
      "text/plain": [
       "['China', 'Brazil', 'Canada']"
      ]
     },
     "execution_count": 92,
     "metadata": {},
     "output_type": "execute_result"
    }
   ],
   "execution_count": 92
  },
  {
   "metadata": {
    "ExecuteTime": {
     "end_time": "2025-07-02T20:20:05.891720Z",
     "start_time": "2025-07-02T20:20:05.884111Z"
    }
   },
   "cell_type": "code",
   "source": [
    "new_list_2 = countries.copy()\n",
    "new_list_2"
   ],
   "id": "23f283ea82544425",
   "outputs": [
    {
     "data": {
      "text/plain": [
       "['China', 'Brazil', 'Canada']"
      ]
     },
     "execution_count": 93,
     "metadata": {},
     "output_type": "execute_result"
    }
   ],
   "execution_count": 93
  },
  {
   "metadata": {},
   "cell_type": "markdown",
   "source": "# 5. Dictionary",
   "id": "1de6623cc32c1377"
  },
  {
   "metadata": {
    "ExecuteTime": {
     "end_time": "2025-07-02T20:13:59.374855Z",
     "start_time": "2025-07-02T20:13:59.371584Z"
    }
   },
   "cell_type": "code",
   "source": "my_dict = {\"key1\": \"value1\", \"key2\": \"value2\"}",
   "id": "4889ce4ba2792bf6",
   "outputs": [],
   "execution_count": null
  },
  {
   "metadata": {
    "ExecuteTime": {
     "end_time": "2025-07-02T20:22:00.701843Z",
     "start_time": "2025-07-02T20:22:00.694822Z"
    }
   },
   "cell_type": "code",
   "source": [
    "my_data = {\n",
    "    \"name\":\"majesty\",\n",
    "    \"age\": 24\n",
    "}"
   ],
   "id": "3df7833d3fa0003",
   "outputs": [],
   "execution_count": 94
  },
  {
   "metadata": {
    "ExecuteTime": {
     "end_time": "2025-07-02T20:22:04.087594Z",
     "start_time": "2025-07-02T20:22:04.080873Z"
    }
   },
   "cell_type": "code",
   "source": "my_data",
   "id": "785b3cea80905016",
   "outputs": [
    {
     "data": {
      "text/plain": [
       "{'name': 'majesty', 'age': 24}"
      ]
     },
     "execution_count": 95,
     "metadata": {},
     "output_type": "execute_result"
    }
   ],
   "execution_count": 95
  },
  {
   "metadata": {
    "ExecuteTime": {
     "end_time": "2025-07-02T20:22:12.695633Z",
     "start_time": "2025-07-02T20:22:12.688205Z"
    }
   },
   "cell_type": "code",
   "source": "my_data.keys()",
   "id": "8768ed3018f12b16",
   "outputs": [
    {
     "data": {
      "text/plain": [
       "dict_keys(['name', 'age'])"
      ]
     },
     "execution_count": 96,
     "metadata": {},
     "output_type": "execute_result"
    }
   ],
   "execution_count": 96
  },
  {
   "metadata": {
    "ExecuteTime": {
     "end_time": "2025-07-02T20:22:23.872055Z",
     "start_time": "2025-07-02T20:22:23.866030Z"
    }
   },
   "cell_type": "code",
   "source": "my_data.values()",
   "id": "fca7a5bed1107fae",
   "outputs": [
    {
     "data": {
      "text/plain": [
       "dict_values(['majesty', 24])"
      ]
     },
     "execution_count": 97,
     "metadata": {},
     "output_type": "execute_result"
    }
   ],
   "execution_count": 97
  },
  {
   "metadata": {
    "ExecuteTime": {
     "end_time": "2025-07-02T20:22:36.436044Z",
     "start_time": "2025-07-02T20:22:36.428613Z"
    }
   },
   "cell_type": "code",
   "source": "my_data.items()",
   "id": "f616d212a29a3ead",
   "outputs": [
    {
     "data": {
      "text/plain": [
       "dict_items([('name', 'majesty'), ('age', 24)])"
      ]
     },
     "execution_count": 98,
     "metadata": {},
     "output_type": "execute_result"
    }
   ],
   "execution_count": 98
  },
  {
   "metadata": {
    "ExecuteTime": {
     "end_time": "2025-07-02T20:25:32.524524Z",
     "start_time": "2025-07-02T20:25:32.518543Z"
    }
   },
   "cell_type": "code",
   "source": [
    "# adding an item to a dictionary\n",
    "my_data[\"height\"] = 1.7"
   ],
   "id": "1b2c5107863a4a06",
   "outputs": [],
   "execution_count": 103
  },
  {
   "metadata": {
    "ExecuteTime": {
     "end_time": "2025-07-02T20:25:33.056196Z",
     "start_time": "2025-07-02T20:25:33.048660Z"
    }
   },
   "cell_type": "code",
   "source": "my_data",
   "id": "1ca9c8212b765e49",
   "outputs": [
    {
     "data": {
      "text/plain": [
       "{'name': 'majesty', 'age': 24, 'height': 1.7}"
      ]
     },
     "execution_count": 104,
     "metadata": {},
     "output_type": "execute_result"
    }
   ],
   "execution_count": 104
  },
  {
   "metadata": {
    "ExecuteTime": {
     "end_time": "2025-07-02T20:29:57.356490Z",
     "start_time": "2025-07-02T20:29:57.350319Z"
    }
   },
   "cell_type": "code",
   "source": "my_data.update({\"height\": 1.8, \"languages\" : [\"English\", \"Hebrew\"]})",
   "id": "fcdf2dd6d3644177",
   "outputs": [],
   "execution_count": 120
  },
  {
   "metadata": {
    "ExecuteTime": {
     "end_time": "2025-07-02T20:29:57.942385Z",
     "start_time": "2025-07-02T20:29:57.928733Z"
    }
   },
   "cell_type": "code",
   "source": "my_data",
   "id": "c00b9b288a721f9a",
   "outputs": [
    {
     "data": {
      "text/plain": [
       "{'name': 'majesty',\n",
       " 'age': 24,\n",
       " 'height': 1.8,\n",
       " 'languages': ['English', 'Hebrew']}"
      ]
     },
     "execution_count": 121,
     "metadata": {},
     "output_type": "execute_result"
    }
   ],
   "execution_count": 121
  },
  {
   "metadata": {},
   "cell_type": "markdown",
   "source": "## 5.0.1 Copying a dictionary",
   "id": "9b3f8d3045044ab9"
  },
  {
   "metadata": {
    "ExecuteTime": {
     "end_time": "2025-07-02T20:29:23.080028Z",
     "start_time": "2025-07-02T20:29:23.075571Z"
    }
   },
   "cell_type": "code",
   "source": "new_dict = my_data.copy()",
   "id": "c28090cfb4ff55d7",
   "outputs": [],
   "execution_count": 115
  },
  {
   "metadata": {
    "ExecuteTime": {
     "end_time": "2025-07-02T20:30:01.426377Z",
     "start_time": "2025-07-02T20:30:01.415326Z"
    }
   },
   "cell_type": "code",
   "source": "new_dict",
   "id": "d726bccc5e3f105f",
   "outputs": [
    {
     "data": {
      "text/plain": [
       "{'name': 'majesty', 'age': 24, 'height': 1.8, 'languages': 'English'}"
      ]
     },
     "execution_count": 122,
     "metadata": {},
     "output_type": "execute_result"
    }
   ],
   "execution_count": 122
  },
  {
   "metadata": {},
   "cell_type": "markdown",
   "source": "## 5.0.2 Remove Element in a Dictionary",
   "id": "972a619880796b99"
  },
  {
   "metadata": {
    "ExecuteTime": {
     "end_time": "2025-07-02T20:32:34.907108Z",
     "start_time": "2025-07-02T20:32:34.899168Z"
    }
   },
   "cell_type": "code",
   "source": "my_data.pop(\"name\")",
   "id": "f2fd3bf1752aeb36",
   "outputs": [
    {
     "data": {
      "text/plain": [
       "'majesty'"
      ]
     },
     "execution_count": 123,
     "metadata": {},
     "output_type": "execute_result"
    }
   ],
   "execution_count": 123
  },
  {
   "metadata": {
    "ExecuteTime": {
     "end_time": "2025-07-02T20:32:37.686951Z",
     "start_time": "2025-07-02T20:32:37.678995Z"
    }
   },
   "cell_type": "code",
   "source": "my_data",
   "id": "ca7ba982a75a8089",
   "outputs": [
    {
     "data": {
      "text/plain": [
       "{'age': 24, 'height': 1.8, 'languages': ['English', 'Hebrew']}"
      ]
     },
     "execution_count": 124,
     "metadata": {},
     "output_type": "execute_result"
    }
   ],
   "execution_count": 124
  },
  {
   "metadata": {
    "ExecuteTime": {
     "end_time": "2025-07-02T20:33:16.549881Z",
     "start_time": "2025-07-02T20:33:16.544156Z"
    }
   },
   "cell_type": "code",
   "source": "del my_data[\"languages\"]",
   "id": "c0fbd87faa50dcd5",
   "outputs": [],
   "execution_count": 125
  },
  {
   "metadata": {
    "ExecuteTime": {
     "end_time": "2025-07-02T20:33:19.471442Z",
     "start_time": "2025-07-02T20:33:19.463938Z"
    }
   },
   "cell_type": "code",
   "source": "my_data",
   "id": "d9c7bf8b70ba0e63",
   "outputs": [
    {
     "data": {
      "text/plain": [
       "{'age': 24, 'height': 1.8}"
      ]
     },
     "execution_count": 126,
     "metadata": {},
     "output_type": "execute_result"
    }
   ],
   "execution_count": 126
  },
  {
   "metadata": {
    "ExecuteTime": {
     "end_time": "2025-07-02T20:33:29.248608Z",
     "start_time": "2025-07-02T20:33:29.244659Z"
    }
   },
   "cell_type": "code",
   "source": "my_data.clear()",
   "id": "27265a09276113d0",
   "outputs": [],
   "execution_count": 127
  },
  {
   "metadata": {
    "ExecuteTime": {
     "end_time": "2025-07-02T20:33:32.948616Z",
     "start_time": "2025-07-02T20:33:32.941410Z"
    }
   },
   "cell_type": "code",
   "source": "my_data",
   "id": "74f5fb9071880de6",
   "outputs": [
    {
     "data": {
      "text/plain": [
       "{}"
      ]
     },
     "execution_count": 128,
     "metadata": {},
     "output_type": "execute_result"
    }
   ],
   "execution_count": 128
  },
  {
   "metadata": {},
   "cell_type": "markdown",
   "source": "# 6. If Statement",
   "id": "f63ad10eb51b2cc9"
  },
  {
   "metadata": {
    "ExecuteTime": {
     "end_time": "2025-07-02T20:13:59.873922Z",
     "start_time": "2025-07-02T20:13:59.868685Z"
    }
   },
   "cell_type": "code",
   "source": [
    "if <condition>:\n",
    "    <code>\n",
    "elif <condition>:\n",
    "    <code>\n",
    "...\n",
    "else:\n",
    "    <code>"
   ],
   "id": "40fd883863686787",
   "outputs": [],
   "execution_count": null
  },
  {
   "metadata": {
    "ExecuteTime": {
     "end_time": "2025-07-02T20:37:51.380331Z",
     "start_time": "2025-07-02T20:37:51.374920Z"
    }
   },
   "cell_type": "code",
   "source": [
    "age = 18\n",
    "\n",
    "if age >= 18:\n",
    "    print(\"You're an adult\")\n",
    "elif age >= 13:\n",
    "    print(\"You're a teenager\")\n",
    "else:\n",
    "    print(\"You're a kid\")"
   ],
   "id": "eed16c2db74d71fe",
   "outputs": [
    {
     "name": "stdout",
     "output_type": "stream",
     "text": [
      "You're a teenager\n"
     ]
    }
   ],
   "execution_count": 131
  },
  {
   "metadata": {
    "ExecuteTime": {
     "end_time": "2025-07-02T20:39:23.989158Z",
     "start_time": "2025-07-02T20:39:23.983158Z"
    }
   },
   "cell_type": "code",
   "source": [
    "countries = ['China', 'Brazil', 'Canada']\n",
    "\n",
    "if 'China' in countries:\n",
    "    print(\"Country in list\")\n",
    "else:\n",
    "    print(\"Not in list\")"
   ],
   "id": "d7092f899146b98d",
   "outputs": [
    {
     "name": "stdout",
     "output_type": "stream",
     "text": [
      "Country in list\n"
     ]
    }
   ],
   "execution_count": 134
  },
  {
   "metadata": {},
   "cell_type": "markdown",
   "source": "# 7. For Loop",
   "id": "6842a82a1ff24d65"
  },
  {
   "metadata": {
    "ExecuteTime": {
     "end_time": "2025-07-02T20:13:59.916826Z",
     "start_time": "2025-07-02T20:13:59.911897Z"
    }
   },
   "cell_type": "code",
   "source": [
    "for <variable> in <list>:\n",
    "    <code>"
   ],
   "id": "7db5e7e109f17e99",
   "outputs": [],
   "execution_count": null
  },
  {
   "metadata": {
    "ExecuteTime": {
     "end_time": "2025-07-02T20:42:02.969698Z",
     "start_time": "2025-07-02T20:42:02.961685Z"
    }
   },
   "cell_type": "code",
   "source": "countries",
   "id": "7c70d4952a4c9da4",
   "outputs": [
    {
     "data": {
      "text/plain": [
       "['China', 'Brazil', 'Canada']"
      ]
     },
     "execution_count": 135,
     "metadata": {},
     "output_type": "execute_result"
    }
   ],
   "execution_count": 135
  },
  {
   "metadata": {
    "ExecuteTime": {
     "end_time": "2025-07-02T20:42:20.713644Z",
     "start_time": "2025-07-02T20:42:20.706361Z"
    }
   },
   "cell_type": "code",
   "source": [
    "for country in countries:\n",
    "    print(country)"
   ],
   "id": "8ee4748a1e20698a",
   "outputs": [
    {
     "name": "stdout",
     "output_type": "stream",
     "text": [
      "China\n",
      "Brazil\n",
      "Canada\n"
     ]
    }
   ],
   "execution_count": 136
  },
  {
   "metadata": {
    "ExecuteTime": {
     "end_time": "2025-07-02T20:43:44.656574Z",
     "start_time": "2025-07-02T20:43:44.651170Z"
    }
   },
   "cell_type": "code",
   "source": [
    "for i, country in enumerate(countries):\n",
    "    print(i, country)"
   ],
   "id": "3adb09acafe83ae6",
   "outputs": [
    {
     "name": "stdout",
     "output_type": "stream",
     "text": [
      "0 China\n",
      "1 Brazil\n",
      "2 Canada\n"
     ]
    }
   ],
   "execution_count": 139
  },
  {
   "metadata": {
    "ExecuteTime": {
     "end_time": "2025-07-02T20:46:17.092006Z",
     "start_time": "2025-07-02T20:46:17.085998Z"
    }
   },
   "cell_type": "code",
   "source": [
    "# looping through a dictionary\n",
    "my_data = {'name': 'majesty',\n",
    " 'age': 24,\n",
    " 'height': 1.8,\n",
    " 'languages': ['English', 'Hebrew']}\n",
    "\n",
    "for key, value in my_data.items():\n",
    "    print(key)\n",
    "    print(value, \"\\n\")"
   ],
   "id": "de9658e0c9e4d90",
   "outputs": [
    {
     "name": "stdout",
     "output_type": "stream",
     "text": [
      "name\n",
      "majesty \n",
      "\n",
      "age\n",
      "24 \n",
      "\n",
      "height\n",
      "1.8 \n",
      "\n",
      "languages\n",
      "['English', 'Hebrew'] \n",
      "\n"
     ]
    }
   ],
   "execution_count": 142
  },
  {
   "metadata": {},
   "cell_type": "markdown",
   "source": "# 8. Function",
   "id": "2e0e8bf3df7af281"
  },
  {
   "metadata": {
    "ExecuteTime": {
     "end_time": "2025-07-02T20:14:00.051229Z",
     "start_time": "2025-07-02T20:14:00.046276Z"
    }
   },
   "cell_type": "code",
   "source": [
    "def function_name<parameter>:\n",
    "    <code>\n",
    "    return <data>"
   ],
   "id": "a193fe5fd36c7be",
   "outputs": [],
   "execution_count": null
  },
  {
   "metadata": {
    "ExecuteTime": {
     "end_time": "2025-07-02T20:47:53.481398Z",
     "start_time": "2025-07-02T20:47:53.473854Z"
    }
   },
   "cell_type": "code",
   "source": [
    "def sum_values(a, b):\n",
    "    x = a + b\n",
    "    return x"
   ],
   "id": "5e67301255206b8e",
   "outputs": [],
   "execution_count": 143
  },
  {
   "metadata": {
    "ExecuteTime": {
     "end_time": "2025-07-02T20:48:05.723892Z",
     "start_time": "2025-07-02T20:48:05.716388Z"
    }
   },
   "cell_type": "code",
   "source": "sum_values(25, 30)",
   "id": "2ec748ae3836c526",
   "outputs": [
    {
     "data": {
      "text/plain": [
       "55"
      ]
     },
     "execution_count": 144,
     "metadata": {},
     "output_type": "execute_result"
    }
   ],
   "execution_count": 144
  },
  {
   "metadata": {},
   "cell_type": "markdown",
   "source": "## 8.1 Built-in FUnctions",
   "id": "21c80474e7417f1e"
  },
  {
   "metadata": {
    "ExecuteTime": {
     "end_time": "2025-07-02T20:50:32.233939Z",
     "start_time": "2025-07-02T20:50:32.228761Z"
    }
   },
   "cell_type": "code",
   "source": "countries = ['Spain', 'United States', 'India', 'China', 'Brazil', 'Canada', 'UK', 'Germany', 'Austria']",
   "id": "b90fb482471425e8",
   "outputs": [],
   "execution_count": 145
  },
  {
   "metadata": {
    "ExecuteTime": {
     "end_time": "2025-07-02T20:50:42.233513Z",
     "start_time": "2025-07-02T20:50:42.225858Z"
    }
   },
   "cell_type": "code",
   "source": "len(countries)",
   "id": "7dd0f22ade4bb5cd",
   "outputs": [
    {
     "data": {
      "text/plain": [
       "9"
      ]
     },
     "execution_count": 146,
     "metadata": {},
     "output_type": "execute_result"
    }
   ],
   "execution_count": 146
  },
  {
   "metadata": {
    "ExecuteTime": {
     "end_time": "2025-07-02T20:51:00.436991Z",
     "start_time": "2025-07-02T20:51:00.428668Z"
    }
   },
   "cell_type": "code",
   "source": "max([4, 45, 79, 92, 300])",
   "id": "6dca125d8a18a5bd",
   "outputs": [
    {
     "data": {
      "text/plain": [
       "300"
      ]
     },
     "execution_count": 147,
     "metadata": {},
     "output_type": "execute_result"
    }
   ],
   "execution_count": 147
  },
  {
   "metadata": {
    "ExecuteTime": {
     "end_time": "2025-07-02T20:51:17.412708Z",
     "start_time": "2025-07-02T20:51:17.406183Z"
    }
   },
   "cell_type": "code",
   "source": "min([4, 45, 79, 92, 300])",
   "id": "9ec2793d3240451",
   "outputs": [
    {
     "data": {
      "text/plain": [
       "4"
      ]
     },
     "execution_count": 148,
     "metadata": {},
     "output_type": "execute_result"
    }
   ],
   "execution_count": 148
  },
  {
   "metadata": {
    "ExecuteTime": {
     "end_time": "2025-07-02T20:51:47.956927Z",
     "start_time": "2025-07-02T20:51:47.948456Z"
    }
   },
   "cell_type": "code",
   "source": "type(countries)",
   "id": "14c0d0280c8f6e90",
   "outputs": [
    {
     "data": {
      "text/plain": [
       "list"
      ]
     },
     "execution_count": 149,
     "metadata": {},
     "output_type": "execute_result"
    }
   ],
   "execution_count": 149
  },
  {
   "metadata": {
    "ExecuteTime": {
     "end_time": "2025-07-02T20:52:56.310903Z",
     "start_time": "2025-07-02T20:52:56.303387Z"
    }
   },
   "cell_type": "code",
   "source": "range(1, 20, 2)",
   "id": "4373e66cd4c3e2bf",
   "outputs": [
    {
     "data": {
      "text/plain": [
       "range(1, 20, 2)"
      ]
     },
     "execution_count": 154,
     "metadata": {},
     "output_type": "execute_result"
    }
   ],
   "execution_count": 154
  },
  {
   "metadata": {
    "ExecuteTime": {
     "end_time": "2025-07-02T20:53:10.338016Z",
     "start_time": "2025-07-02T20:53:10.333505Z"
    }
   },
   "cell_type": "code",
   "source": [
    "for i in range(1, 20, 2):\n",
    "    print(i)"
   ],
   "id": "66893cbf06140056",
   "outputs": [
    {
     "name": "stdout",
     "output_type": "stream",
     "text": [
      "1\n",
      "3\n",
      "5\n",
      "7\n",
      "9\n",
      "11\n",
      "13\n",
      "15\n",
      "17\n",
      "19\n"
     ]
    }
   ],
   "execution_count": 155
  },
  {
   "metadata": {},
   "cell_type": "markdown",
   "source": "# 9. Module",
   "id": "6a58648a868ccd23"
  },
  {
   "metadata": {
    "ExecuteTime": {
     "end_time": "2025-07-02T20:54:24.382021Z",
     "start_time": "2025-07-02T20:54:24.375999Z"
    }
   },
   "cell_type": "code",
   "source": "import",
   "id": "e1d3e9e1db707efc",
   "outputs": [],
   "execution_count": 157
  },
  {
   "metadata": {},
   "cell_type": "markdown",
   "source": "## 9.1 OS Module",
   "id": "7f7dc5b481932e76"
  },
  {
   "metadata": {
    "ExecuteTime": {
     "end_time": "2025-07-02T20:54:34.309933Z",
     "start_time": "2025-07-02T20:54:34.305758Z"
    }
   },
   "cell_type": "code",
   "source": "import os",
   "id": "72ead82ed8fb91e4",
   "outputs": [],
   "execution_count": 158
  },
  {
   "metadata": {
    "ExecuteTime": {
     "end_time": "2025-07-02T20:54:45.178872Z",
     "start_time": "2025-07-02T20:54:45.170886Z"
    }
   },
   "cell_type": "code",
   "source": "os.getcwd()",
   "id": "75625b1db1c2bcea",
   "outputs": [
    {
     "data": {
      "text/plain": [
       "'C:\\\\Users\\\\XANDER\\\\Videos\\\\TECH\\\\Learn Python for Data Science (Freecodecamp)\\\\01.Python Crash Course'"
      ]
     },
     "execution_count": 159,
     "metadata": {},
     "output_type": "execute_result"
    }
   ],
   "execution_count": 159
  },
  {
   "metadata": {
    "ExecuteTime": {
     "end_time": "2025-07-02T20:54:58.688511Z",
     "start_time": "2025-07-02T20:54:58.681237Z"
    }
   },
   "cell_type": "code",
   "source": "os.listdir()",
   "id": "411551e4f2c6bab8",
   "outputs": [
    {
     "data": {
      "text/plain": [
       "['python_crash_course.ipynb']"
      ]
     },
     "execution_count": 160,
     "metadata": {},
     "output_type": "execute_result"
    }
   ],
   "execution_count": 160
  },
  {
   "metadata": {
    "ExecuteTime": {
     "end_time": "2025-07-02T20:56:08.813534Z",
     "start_time": "2025-07-02T20:56:08.808301Z"
    }
   },
   "cell_type": "code",
   "source": "os.makedirs(\"02.Intro to Pandas\")",
   "id": "f9e3415f1fc41cb5",
   "outputs": [],
   "execution_count": 162
  },
  {
   "metadata": {
    "ExecuteTime": {
     "end_time": "2025-07-02T20:56:16.537061Z",
     "start_time": "2025-07-02T20:56:16.528495Z"
    }
   },
   "cell_type": "code",
   "source": "os.listdir()",
   "id": "7ece27b2fd97711b",
   "outputs": [
    {
     "data": {
      "text/plain": [
       "['02.Intro to Pandas', 'python_crash_course.ipynb']"
      ]
     },
     "execution_count": 163,
     "metadata": {},
     "output_type": "execute_result"
    }
   ],
   "execution_count": 163
  },
  {
   "metadata": {
    "ExecuteTime": {
     "end_time": "2025-07-02T20:14:00.440066Z",
     "start_time": "2025-07-02T20:14:00.436101Z"
    }
   },
   "cell_type": "code",
   "source": "",
   "id": "a87690aa7612f81f",
   "outputs": [],
   "execution_count": null
  },
  {
   "metadata": {
    "ExecuteTime": {
     "end_time": "2025-07-02T20:14:00.455043Z",
     "start_time": "2025-07-02T20:14:00.451356Z"
    }
   },
   "cell_type": "code",
   "source": "",
   "id": "81be3b239b721873",
   "outputs": [],
   "execution_count": null
  },
  {
   "metadata": {
    "ExecuteTime": {
     "end_time": "2025-07-02T20:14:00.473897Z",
     "start_time": "2025-07-02T20:14:00.469954Z"
    }
   },
   "cell_type": "code",
   "source": "",
   "id": "49fb9834464d7266",
   "outputs": [],
   "execution_count": null
  },
  {
   "metadata": {
    "ExecuteTime": {
     "end_time": "2025-07-02T20:14:00.493425Z",
     "start_time": "2025-07-02T20:14:00.489318Z"
    }
   },
   "cell_type": "code",
   "source": "",
   "id": "d2c5dbf247cf12ad",
   "outputs": [],
   "execution_count": null
  },
  {
   "metadata": {
    "ExecuteTime": {
     "end_time": "2025-07-02T20:14:00.533703Z",
     "start_time": "2025-07-02T20:14:00.528602Z"
    }
   },
   "cell_type": "code",
   "source": "",
   "id": "3359810dde4ab61b",
   "outputs": [],
   "execution_count": null
  },
  {
   "metadata": {
    "ExecuteTime": {
     "end_time": "2025-07-02T20:14:00.565412Z",
     "start_time": "2025-07-02T20:14:00.561473Z"
    }
   },
   "cell_type": "code",
   "source": "",
   "id": "87318e90b7ad324a",
   "outputs": [],
   "execution_count": null
  },
  {
   "metadata": {
    "ExecuteTime": {
     "end_time": "2025-07-02T20:14:00.616293Z",
     "start_time": "2025-07-02T20:14:00.611304Z"
    }
   },
   "cell_type": "code",
   "source": "",
   "id": "28a9baa42236e535",
   "outputs": [],
   "execution_count": null
  },
  {
   "metadata": {
    "ExecuteTime": {
     "end_time": "2025-07-02T20:14:00.656780Z",
     "start_time": "2025-07-02T20:14:00.651253Z"
    }
   },
   "cell_type": "code",
   "source": "",
   "id": "7d90ffb68403c342",
   "outputs": [],
   "execution_count": null
  },
  {
   "metadata": {
    "ExecuteTime": {
     "end_time": "2025-07-02T20:14:00.713468Z",
     "start_time": "2025-07-02T20:14:00.707589Z"
    }
   },
   "cell_type": "code",
   "source": "",
   "id": "72c061311d695930",
   "outputs": [],
   "execution_count": null
  },
  {
   "metadata": {
    "ExecuteTime": {
     "end_time": "2025-07-02T20:14:00.735470Z",
     "start_time": "2025-07-02T20:14:00.731606Z"
    }
   },
   "cell_type": "code",
   "source": "",
   "id": "73f2754c847ed95c",
   "outputs": [],
   "execution_count": null
  },
  {
   "metadata": {
    "ExecuteTime": {
     "end_time": "2025-07-02T20:14:00.774224Z",
     "start_time": "2025-07-02T20:14:00.769659Z"
    }
   },
   "cell_type": "code",
   "source": "",
   "id": "5cdc7feea5d39009",
   "outputs": [],
   "execution_count": null
  },
  {
   "metadata": {
    "ExecuteTime": {
     "end_time": "2025-07-02T20:14:00.815930Z",
     "start_time": "2025-07-02T20:14:00.811306Z"
    }
   },
   "cell_type": "code",
   "source": "",
   "id": "6e31a89b5d29020f",
   "outputs": [],
   "execution_count": null
  },
  {
   "metadata": {
    "ExecuteTime": {
     "end_time": "2025-07-02T20:14:00.837730Z",
     "start_time": "2025-07-02T20:14:00.833629Z"
    }
   },
   "cell_type": "code",
   "source": "",
   "id": "2cd6449c33a02b98",
   "outputs": [],
   "execution_count": null
  },
  {
   "metadata": {
    "ExecuteTime": {
     "end_time": "2025-07-02T20:14:00.883804Z",
     "start_time": "2025-07-02T20:14:00.879817Z"
    }
   },
   "cell_type": "code",
   "source": "",
   "id": "70c62ba6fb1f85a6",
   "outputs": [],
   "execution_count": null
  },
  {
   "metadata": {
    "ExecuteTime": {
     "end_time": "2025-07-02T20:14:00.921640Z",
     "start_time": "2025-07-02T20:14:00.918635Z"
    }
   },
   "cell_type": "code",
   "source": "",
   "id": "a62eee4915071fc",
   "outputs": [],
   "execution_count": null
  },
  {
   "metadata": {
    "ExecuteTime": {
     "end_time": "2025-07-02T20:14:00.961696Z",
     "start_time": "2025-07-02T20:14:00.956706Z"
    }
   },
   "cell_type": "code",
   "source": "",
   "id": "f858660d358ae692",
   "outputs": [],
   "execution_count": null
  },
  {
   "metadata": {
    "ExecuteTime": {
     "end_time": "2025-07-02T20:14:00.982434Z",
     "start_time": "2025-07-02T20:14:00.976431Z"
    }
   },
   "cell_type": "code",
   "source": "",
   "id": "8320504f89853e9b",
   "outputs": [],
   "execution_count": null
  },
  {
   "metadata": {
    "ExecuteTime": {
     "end_time": "2025-07-02T20:14:01.007230Z",
     "start_time": "2025-07-02T20:14:01.003591Z"
    }
   },
   "cell_type": "code",
   "source": "",
   "id": "40454e9bea9d3dc6",
   "outputs": [],
   "execution_count": null
  },
  {
   "metadata": {
    "ExecuteTime": {
     "end_time": "2025-07-02T20:14:01.051825Z",
     "start_time": "2025-07-02T20:14:01.046271Z"
    }
   },
   "cell_type": "code",
   "source": "",
   "id": "d5439b72ce990133",
   "outputs": [],
   "execution_count": null
  },
  {
   "metadata": {
    "ExecuteTime": {
     "end_time": "2025-07-02T20:14:01.089356Z",
     "start_time": "2025-07-02T20:14:01.085192Z"
    }
   },
   "cell_type": "code",
   "source": "",
   "id": "dcca9f2bc9e67c80",
   "outputs": [],
   "execution_count": null
  },
  {
   "metadata": {
    "ExecuteTime": {
     "end_time": "2025-07-02T20:14:01.135113Z",
     "start_time": "2025-07-02T20:14:01.131252Z"
    }
   },
   "cell_type": "code",
   "source": "",
   "id": "ed05be7912560f4d",
   "outputs": [],
   "execution_count": null
  },
  {
   "metadata": {
    "ExecuteTime": {
     "end_time": "2025-07-02T20:14:01.191995Z",
     "start_time": "2025-07-02T20:14:01.186532Z"
    }
   },
   "cell_type": "code",
   "source": "",
   "id": "c9070f7a7f1b8ce5",
   "outputs": [],
   "execution_count": null
  },
  {
   "metadata": {
    "ExecuteTime": {
     "end_time": "2025-07-02T20:14:01.249377Z",
     "start_time": "2025-07-02T20:14:01.243875Z"
    }
   },
   "cell_type": "code",
   "source": "",
   "id": "f4b8b278b382a848",
   "outputs": [],
   "execution_count": null
  },
  {
   "metadata": {
    "ExecuteTime": {
     "end_time": "2025-07-02T20:14:01.297794Z",
     "start_time": "2025-07-02T20:14:01.291254Z"
    }
   },
   "cell_type": "code",
   "source": "",
   "id": "17fe0d834fbbc289",
   "outputs": [],
   "execution_count": null
  },
  {
   "metadata": {
    "ExecuteTime": {
     "end_time": "2025-07-02T20:14:01.341632Z",
     "start_time": "2025-07-02T20:14:01.336126Z"
    }
   },
   "cell_type": "code",
   "source": "",
   "id": "5cab9c8b8b4b5990",
   "outputs": [],
   "execution_count": null
  },
  {
   "metadata": {
    "ExecuteTime": {
     "end_time": "2025-07-02T20:14:01.385842Z",
     "start_time": "2025-07-02T20:14:01.381329Z"
    }
   },
   "cell_type": "code",
   "source": "",
   "id": "1ae9d7c2a75db7a0",
   "outputs": [],
   "execution_count": null
  },
  {
   "metadata": {
    "ExecuteTime": {
     "end_time": "2025-07-02T20:14:01.421692Z",
     "start_time": "2025-07-02T20:14:01.418711Z"
    }
   },
   "cell_type": "code",
   "source": "",
   "id": "2711d1eb38253a42",
   "outputs": [],
   "execution_count": null
  },
  {
   "metadata": {
    "ExecuteTime": {
     "end_time": "2025-07-02T20:14:01.461428Z",
     "start_time": "2025-07-02T20:14:01.456429Z"
    }
   },
   "cell_type": "code",
   "source": "",
   "id": "1945b767a47bf23a",
   "outputs": [],
   "execution_count": null
  },
  {
   "metadata": {
    "ExecuteTime": {
     "end_time": "2025-07-02T20:14:01.481965Z",
     "start_time": "2025-07-02T20:14:01.476474Z"
    }
   },
   "cell_type": "code",
   "source": "",
   "id": "a9f466b696d24e4a",
   "outputs": [],
   "execution_count": null
  },
  {
   "metadata": {
    "ExecuteTime": {
     "end_time": "2025-07-02T20:14:01.518908Z",
     "start_time": "2025-07-02T20:14:01.513764Z"
    }
   },
   "cell_type": "code",
   "source": "",
   "id": "9b012c4cea463998",
   "outputs": [],
   "execution_count": null
  },
  {
   "metadata": {
    "ExecuteTime": {
     "end_time": "2025-07-02T20:14:01.542618Z",
     "start_time": "2025-07-02T20:14:01.539032Z"
    }
   },
   "cell_type": "code",
   "source": "",
   "id": "e61fd9309bf6f284",
   "outputs": [],
   "execution_count": null
  },
  {
   "metadata": {
    "ExecuteTime": {
     "end_time": "2025-07-02T20:14:01.585026Z",
     "start_time": "2025-07-02T20:14:01.581157Z"
    }
   },
   "cell_type": "code",
   "source": "",
   "id": "812d04eb2abc97c6",
   "outputs": [],
   "execution_count": null
  },
  {
   "metadata": {
    "ExecuteTime": {
     "end_time": "2025-07-02T20:14:01.621334Z",
     "start_time": "2025-07-02T20:14:01.616338Z"
    }
   },
   "cell_type": "code",
   "source": "",
   "id": "8e305e7371384d53",
   "outputs": [],
   "execution_count": null
  },
  {
   "metadata": {
    "ExecuteTime": {
     "end_time": "2025-07-02T20:14:01.661501Z",
     "start_time": "2025-07-02T20:14:01.656487Z"
    }
   },
   "cell_type": "code",
   "source": "",
   "id": "b5d193420e76032d",
   "outputs": [],
   "execution_count": null
  },
  {
   "metadata": {
    "ExecuteTime": {
     "end_time": "2025-07-02T20:14:01.682597Z",
     "start_time": "2025-07-02T20:14:01.678790Z"
    }
   },
   "cell_type": "code",
   "source": "",
   "id": "449ab84a13963d92",
   "outputs": [],
   "execution_count": null
  },
  {
   "metadata": {
    "ExecuteTime": {
     "end_time": "2025-07-02T20:14:01.723445Z",
     "start_time": "2025-07-02T20:14:01.718962Z"
    }
   },
   "cell_type": "code",
   "source": "",
   "id": "d2e1471af373ab4b",
   "outputs": [],
   "execution_count": null
  },
  {
   "metadata": {
    "ExecuteTime": {
     "end_time": "2025-07-02T20:14:01.749157Z",
     "start_time": "2025-07-02T20:14:01.744912Z"
    }
   },
   "cell_type": "code",
   "source": "",
   "id": "694f041f66fc4d88",
   "outputs": [],
   "execution_count": null
  },
  {
   "metadata": {
    "ExecuteTime": {
     "end_time": "2025-07-02T20:14:01.802585Z",
     "start_time": "2025-07-02T20:14:01.798696Z"
    }
   },
   "cell_type": "code",
   "source": "",
   "id": "8d38d5dbe198c378",
   "outputs": [],
   "execution_count": null
  },
  {
   "metadata": {
    "ExecuteTime": {
     "end_time": "2025-07-02T20:14:01.849785Z",
     "start_time": "2025-07-02T20:14:01.846674Z"
    }
   },
   "cell_type": "code",
   "source": "",
   "id": "4b5bb8343c6262d0",
   "outputs": [],
   "execution_count": null
  },
  {
   "metadata": {
    "ExecuteTime": {
     "end_time": "2025-07-02T20:14:01.897645Z",
     "start_time": "2025-07-02T20:14:01.891444Z"
    }
   },
   "cell_type": "code",
   "source": "",
   "id": "7359446078c8844c",
   "outputs": [],
   "execution_count": null
  },
  {
   "metadata": {
    "ExecuteTime": {
     "end_time": "2025-07-02T20:14:01.939636Z",
     "start_time": "2025-07-02T20:14:01.936551Z"
    }
   },
   "cell_type": "code",
   "source": "",
   "id": "815f986afd623e8b",
   "outputs": [],
   "execution_count": null
  },
  {
   "metadata": {
    "ExecuteTime": {
     "end_time": "2025-07-02T20:14:01.987194Z",
     "start_time": "2025-07-02T20:14:01.983559Z"
    }
   },
   "cell_type": "code",
   "source": "",
   "id": "386b25bffa163c63",
   "outputs": [],
   "execution_count": null
  },
  {
   "metadata": {
    "ExecuteTime": {
     "end_time": "2025-07-02T20:14:02.023020Z",
     "start_time": "2025-07-02T20:14:02.018961Z"
    }
   },
   "cell_type": "code",
   "source": "",
   "id": "5d60946c472bb706",
   "outputs": [],
   "execution_count": null
  },
  {
   "metadata": {
    "ExecuteTime": {
     "end_time": "2025-07-02T20:14:02.050245Z",
     "start_time": "2025-07-02T20:14:02.046356Z"
    }
   },
   "cell_type": "code",
   "source": "",
   "id": "1456c3d154398eab",
   "outputs": [],
   "execution_count": null
  },
  {
   "metadata": {
    "ExecuteTime": {
     "end_time": "2025-07-02T20:14:02.081582Z",
     "start_time": "2025-07-02T20:14:02.073566Z"
    }
   },
   "cell_type": "code",
   "source": "",
   "id": "d09a991eae0d03cb",
   "outputs": [],
   "execution_count": null
  },
  {
   "metadata": {
    "ExecuteTime": {
     "end_time": "2025-07-02T20:14:02.124494Z",
     "start_time": "2025-07-02T20:14:02.121305Z"
    }
   },
   "cell_type": "code",
   "source": "",
   "id": "9f61942dd47b36a6",
   "outputs": [],
   "execution_count": null
  },
  {
   "metadata": {
    "ExecuteTime": {
     "end_time": "2025-07-02T20:14:02.163703Z",
     "start_time": "2025-07-02T20:14:02.158768Z"
    }
   },
   "cell_type": "code",
   "source": "",
   "id": "dc10edba4ca1f861",
   "outputs": [],
   "execution_count": null
  },
  {
   "metadata": {
    "ExecuteTime": {
     "end_time": "2025-07-02T20:14:02.202340Z",
     "start_time": "2025-07-02T20:14:02.198824Z"
    }
   },
   "cell_type": "code",
   "source": "",
   "id": "ed229ef311dacad2",
   "outputs": [],
   "execution_count": null
  },
  {
   "metadata": {
    "ExecuteTime": {
     "end_time": "2025-07-02T20:14:02.223065Z",
     "start_time": "2025-07-02T20:14:02.218948Z"
    }
   },
   "cell_type": "code",
   "source": "",
   "id": "da35cdd40468a81f",
   "outputs": [],
   "execution_count": null
  },
  {
   "metadata": {
    "ExecuteTime": {
     "end_time": "2025-07-02T20:14:02.267508Z",
     "start_time": "2025-07-02T20:14:02.264003Z"
    }
   },
   "cell_type": "code",
   "source": "",
   "id": "e1c82fd3edd313df",
   "outputs": [],
   "execution_count": null
  },
  {
   "metadata": {
    "ExecuteTime": {
     "end_time": "2025-07-02T20:14:02.304154Z",
     "start_time": "2025-07-02T20:14:02.301099Z"
    }
   },
   "cell_type": "code",
   "source": "",
   "id": "ce021f7f48aa9f79",
   "outputs": [],
   "execution_count": null
  },
  {
   "metadata": {
    "ExecuteTime": {
     "end_time": "2025-07-02T20:14:02.347967Z",
     "start_time": "2025-07-02T20:14:02.341864Z"
    }
   },
   "cell_type": "code",
   "source": "",
   "id": "939273b71379454d",
   "outputs": [],
   "execution_count": null
  },
  {
   "metadata": {
    "ExecuteTime": {
     "end_time": "2025-07-02T20:14:02.385501Z",
     "start_time": "2025-07-02T20:14:02.381787Z"
    }
   },
   "cell_type": "code",
   "source": "",
   "id": "c04a01721e7c7475",
   "outputs": [],
   "execution_count": null
  },
  {
   "metadata": {
    "ExecuteTime": {
     "end_time": "2025-07-02T20:14:02.405093Z",
     "start_time": "2025-07-02T20:14:02.401647Z"
    }
   },
   "cell_type": "code",
   "source": "",
   "id": "cfb4e1cd8fb8780b",
   "outputs": [],
   "execution_count": null
  },
  {
   "metadata": {
    "ExecuteTime": {
     "end_time": "2025-07-02T20:14:02.443787Z",
     "start_time": "2025-07-02T20:14:02.438872Z"
    }
   },
   "cell_type": "code",
   "source": "",
   "id": "c94b5ee4b70fd5bb",
   "outputs": [],
   "execution_count": null
  },
  {
   "metadata": {
    "ExecuteTime": {
     "end_time": "2025-07-02T20:14:02.502100Z",
     "start_time": "2025-07-02T20:14:02.496720Z"
    }
   },
   "cell_type": "code",
   "source": "",
   "id": "a023ad6cc98f816",
   "outputs": [],
   "execution_count": null
  },
  {
   "metadata": {
    "ExecuteTime": {
     "end_time": "2025-07-02T20:14:02.537021Z",
     "start_time": "2025-07-02T20:14:02.533806Z"
    }
   },
   "cell_type": "code",
   "source": "",
   "id": "ba062e48c8a1273e",
   "outputs": [],
   "execution_count": null
  },
  {
   "metadata": {
    "ExecuteTime": {
     "end_time": "2025-07-02T20:14:02.587062Z",
     "start_time": "2025-07-02T20:14:02.582197Z"
    }
   },
   "cell_type": "code",
   "source": "",
   "id": "5ffbaf292319ddd9",
   "outputs": [],
   "execution_count": null
  },
  {
   "metadata": {
    "ExecuteTime": {
     "end_time": "2025-07-02T20:14:02.615274Z",
     "start_time": "2025-07-02T20:14:02.611414Z"
    }
   },
   "cell_type": "code",
   "source": "",
   "id": "7ea4c5e602113d78",
   "outputs": [],
   "execution_count": null
  },
  {
   "metadata": {
    "ExecuteTime": {
     "end_time": "2025-07-02T20:14:02.691817Z",
     "start_time": "2025-07-02T20:14:02.685498Z"
    }
   },
   "cell_type": "code",
   "source": "",
   "id": "8edc8d116028c41d",
   "outputs": [],
   "execution_count": null
  },
  {
   "metadata": {
    "ExecuteTime": {
     "end_time": "2025-07-02T20:14:02.718577Z",
     "start_time": "2025-07-02T20:14:02.713669Z"
    }
   },
   "cell_type": "code",
   "source": "",
   "id": "ac89c3f2b2b8a2df",
   "outputs": [],
   "execution_count": null
  },
  {
   "metadata": {
    "ExecuteTime": {
     "end_time": "2025-07-02T20:14:02.779254Z",
     "start_time": "2025-07-02T20:14:02.773960Z"
    }
   },
   "cell_type": "code",
   "source": "",
   "id": "3fd4a63169527131",
   "outputs": [],
   "execution_count": null
  },
  {
   "metadata": {
    "ExecuteTime": {
     "end_time": "2025-07-02T20:14:02.823581Z",
     "start_time": "2025-07-02T20:14:02.819040Z"
    }
   },
   "cell_type": "code",
   "source": "",
   "id": "3a1b69194e2a7cd3",
   "outputs": [],
   "execution_count": null
  },
  {
   "metadata": {
    "ExecuteTime": {
     "end_time": "2025-07-02T20:14:02.863685Z",
     "start_time": "2025-07-02T20:14:02.858811Z"
    }
   },
   "cell_type": "code",
   "source": "",
   "id": "d382292a83476237",
   "outputs": [],
   "execution_count": null
  },
  {
   "metadata": {
    "ExecuteTime": {
     "end_time": "2025-07-02T20:14:02.887918Z",
     "start_time": "2025-07-02T20:14:02.883760Z"
    }
   },
   "cell_type": "code",
   "source": "",
   "id": "83c4ccb6c0d2596b",
   "outputs": [],
   "execution_count": null
  },
  {
   "metadata": {
    "ExecuteTime": {
     "end_time": "2025-07-02T20:14:02.933940Z",
     "start_time": "2025-07-02T20:14:02.928746Z"
    }
   },
   "cell_type": "code",
   "source": "",
   "id": "1eec886ac6b2dd98",
   "outputs": [],
   "execution_count": null
  },
  {
   "metadata": {
    "ExecuteTime": {
     "end_time": "2025-07-02T20:14:02.974956Z",
     "start_time": "2025-07-02T20:14:02.971729Z"
    }
   },
   "cell_type": "code",
   "source": "",
   "id": "eb4fdc8c2878d438",
   "outputs": [],
   "execution_count": null
  },
  {
   "metadata": {
    "ExecuteTime": {
     "end_time": "2025-07-02T20:14:03.019537Z",
     "start_time": "2025-07-02T20:14:03.015009Z"
    }
   },
   "cell_type": "code",
   "source": "",
   "id": "5ca82f874cd0722",
   "outputs": [],
   "execution_count": null
  },
  {
   "metadata": {
    "ExecuteTime": {
     "end_time": "2025-07-02T20:14:03.065774Z",
     "start_time": "2025-07-02T20:14:03.062413Z"
    }
   },
   "cell_type": "code",
   "source": "",
   "id": "4c55863fb2a0430d",
   "outputs": [],
   "execution_count": null
  },
  {
   "metadata": {
    "ExecuteTime": {
     "end_time": "2025-07-02T20:14:03.114167Z",
     "start_time": "2025-07-02T20:14:03.108592Z"
    }
   },
   "cell_type": "code",
   "source": "",
   "id": "6cfdf8a4ba54ffcb",
   "outputs": [],
   "execution_count": null
  },
  {
   "metadata": {
    "ExecuteTime": {
     "end_time": "2025-07-02T20:14:03.154817Z",
     "start_time": "2025-07-02T20:14:03.151081Z"
    }
   },
   "cell_type": "code",
   "source": "",
   "id": "e135d0e1196a77d",
   "outputs": [],
   "execution_count": null
  },
  {
   "metadata": {
    "ExecuteTime": {
     "end_time": "2025-07-02T20:14:03.200701Z",
     "start_time": "2025-07-02T20:14:03.196212Z"
    }
   },
   "cell_type": "code",
   "source": "",
   "id": "caa3a136e7c07f3",
   "outputs": [],
   "execution_count": null
  },
  {
   "metadata": {
    "ExecuteTime": {
     "end_time": "2025-07-02T20:14:03.235901Z",
     "start_time": "2025-07-02T20:14:03.231535Z"
    }
   },
   "cell_type": "code",
   "source": "",
   "id": "e0708156c3b62be1",
   "outputs": [],
   "execution_count": null
  },
  {
   "metadata": {
    "ExecuteTime": {
     "end_time": "2025-07-02T20:14:03.271535Z",
     "start_time": "2025-07-02T20:14:03.266062Z"
    }
   },
   "cell_type": "code",
   "source": "",
   "id": "427af31c1887b318",
   "outputs": [],
   "execution_count": null
  },
  {
   "metadata": {
    "ExecuteTime": {
     "end_time": "2025-07-02T20:14:03.307493Z",
     "start_time": "2025-07-02T20:14:03.303878Z"
    }
   },
   "cell_type": "code",
   "source": "",
   "id": "1660d9b090a4e287",
   "outputs": [],
   "execution_count": null
  },
  {
   "metadata": {
    "ExecuteTime": {
     "end_time": "2025-07-02T20:14:03.350497Z",
     "start_time": "2025-07-02T20:14:03.346249Z"
    }
   },
   "cell_type": "code",
   "source": "",
   "id": "780162457e869358",
   "outputs": [],
   "execution_count": null
  },
  {
   "metadata": {
    "ExecuteTime": {
     "end_time": "2025-07-02T20:14:03.387001Z",
     "start_time": "2025-07-02T20:14:03.383750Z"
    }
   },
   "cell_type": "code",
   "source": "",
   "id": "682372af1b0943ca",
   "outputs": [],
   "execution_count": null
  },
  {
   "metadata": {
    "ExecuteTime": {
     "end_time": "2025-07-02T20:14:03.749611Z",
     "start_time": "2025-07-02T20:14:03.744471Z"
    }
   },
   "cell_type": "code",
   "source": "",
   "id": "2625a0632d055378",
   "outputs": [],
   "execution_count": null
  },
  {
   "metadata": {
    "ExecuteTime": {
     "end_time": "2025-07-02T20:14:03.804851Z",
     "start_time": "2025-07-02T20:14:03.799634Z"
    }
   },
   "cell_type": "code",
   "source": "",
   "id": "2a8200050c15e966",
   "outputs": [],
   "execution_count": null
  },
  {
   "metadata": {
    "ExecuteTime": {
     "end_time": "2025-07-02T20:14:03.832216Z",
     "start_time": "2025-07-02T20:14:03.827221Z"
    }
   },
   "cell_type": "code",
   "source": "",
   "id": "f2421f99f2dcabf1",
   "outputs": [],
   "execution_count": null
  },
  {
   "metadata": {
    "ExecuteTime": {
     "end_time": "2025-07-02T20:14:03.845456Z",
     "start_time": "2025-07-02T20:14:03.840223Z"
    }
   },
   "cell_type": "code",
   "source": "",
   "id": "ad37970cb1365307",
   "outputs": [],
   "execution_count": null
  },
  {
   "metadata": {
    "ExecuteTime": {
     "end_time": "2025-07-02T20:14:03.855439Z",
     "start_time": "2025-07-02T20:14:03.851123Z"
    }
   },
   "cell_type": "code",
   "source": "",
   "id": "effa4f0bfa01e58a",
   "outputs": [],
   "execution_count": null
  },
  {
   "metadata": {
    "ExecuteTime": {
     "end_time": "2025-07-02T20:14:03.865812Z",
     "start_time": "2025-07-02T20:14:03.861243Z"
    }
   },
   "cell_type": "code",
   "source": "",
   "id": "5434372dc5c146e0",
   "outputs": [],
   "execution_count": null
  },
  {
   "metadata": {
    "ExecuteTime": {
     "end_time": "2025-07-02T20:14:03.875096Z",
     "start_time": "2025-07-02T20:14:03.871456Z"
    }
   },
   "cell_type": "code",
   "source": "",
   "id": "fd8c3cab88767263",
   "outputs": [],
   "execution_count": null
  },
  {
   "metadata": {
    "ExecuteTime": {
     "end_time": "2025-07-02T20:14:03.884249Z",
     "start_time": "2025-07-02T20:14:03.881205Z"
    }
   },
   "cell_type": "code",
   "source": "",
   "id": "5d4944f0c52452df",
   "outputs": [],
   "execution_count": null
  },
  {
   "metadata": {
    "ExecuteTime": {
     "end_time": "2025-07-02T20:14:03.895206Z",
     "start_time": "2025-07-02T20:14:03.891780Z"
    }
   },
   "cell_type": "code",
   "source": "",
   "id": "53205a3ef0ca6a08",
   "outputs": [],
   "execution_count": null
  },
  {
   "metadata": {
    "ExecuteTime": {
     "end_time": "2025-07-02T20:14:03.904554Z",
     "start_time": "2025-07-02T20:14:03.901294Z"
    }
   },
   "cell_type": "code",
   "source": "",
   "id": "6581019beadf14a7",
   "outputs": [],
   "execution_count": null
  },
  {
   "metadata": {
    "ExecuteTime": {
     "end_time": "2025-07-02T20:14:03.916492Z",
     "start_time": "2025-07-02T20:14:03.911181Z"
    }
   },
   "cell_type": "code",
   "source": "",
   "id": "e79d3cb16e18895a",
   "outputs": [],
   "execution_count": null
  },
  {
   "metadata": {
    "ExecuteTime": {
     "end_time": "2025-07-02T20:14:03.925971Z",
     "start_time": "2025-07-02T20:14:03.921072Z"
    }
   },
   "cell_type": "code",
   "source": "",
   "id": "b1c81680a61241d5",
   "outputs": [],
   "execution_count": null
  },
  {
   "metadata": {
    "ExecuteTime": {
     "end_time": "2025-07-02T20:14:03.939092Z",
     "start_time": "2025-07-02T20:14:03.933976Z"
    }
   },
   "cell_type": "code",
   "source": "",
   "id": "db51ac989317cddb",
   "outputs": [],
   "execution_count": null
  },
  {
   "metadata": {
    "ExecuteTime": {
     "end_time": "2025-07-02T20:14:03.949652Z",
     "start_time": "2025-07-02T20:14:03.946134Z"
    }
   },
   "cell_type": "code",
   "source": "",
   "id": "402824dffd34769",
   "outputs": [],
   "execution_count": null
  },
  {
   "metadata": {
    "ExecuteTime": {
     "end_time": "2025-07-02T20:14:03.962202Z",
     "start_time": "2025-07-02T20:14:03.956185Z"
    }
   },
   "cell_type": "code",
   "source": "",
   "id": "51b5f733dd72fa0e",
   "outputs": [],
   "execution_count": null
  },
  {
   "metadata": {
    "ExecuteTime": {
     "end_time": "2025-07-02T20:14:03.972009Z",
     "start_time": "2025-07-02T20:14:03.968730Z"
    }
   },
   "cell_type": "code",
   "source": "",
   "id": "c3beeab0ad186830",
   "outputs": [],
   "execution_count": null
  },
  {
   "metadata": {
    "ExecuteTime": {
     "end_time": "2025-07-02T20:14:03.979791Z",
     "start_time": "2025-07-02T20:14:03.976587Z"
    }
   },
   "cell_type": "code",
   "source": "",
   "id": "d1815d0de7e79f23",
   "outputs": [],
   "execution_count": null
  },
  {
   "metadata": {
    "ExecuteTime": {
     "end_time": "2025-07-02T20:14:03.988767Z",
     "start_time": "2025-07-02T20:14:03.983819Z"
    }
   },
   "cell_type": "code",
   "source": "",
   "id": "f85ea279a91f911d",
   "outputs": [],
   "execution_count": null
  },
  {
   "metadata": {
    "ExecuteTime": {
     "end_time": "2025-07-02T20:14:03.997360Z",
     "start_time": "2025-07-02T20:14:03.993792Z"
    }
   },
   "cell_type": "code",
   "source": "",
   "id": "e6edf2a2b5600615",
   "outputs": [],
   "execution_count": null
  },
  {
   "metadata": {
    "ExecuteTime": {
     "end_time": "2025-07-02T20:14:04.004989Z",
     "start_time": "2025-07-02T20:14:04.001386Z"
    }
   },
   "cell_type": "code",
   "source": "",
   "id": "6e7aaef0fb71ada0",
   "outputs": [],
   "execution_count": null
  },
  {
   "metadata": {
    "ExecuteTime": {
     "end_time": "2025-07-02T20:14:04.013147Z",
     "start_time": "2025-07-02T20:14:04.009015Z"
    }
   },
   "cell_type": "code",
   "source": "",
   "id": "6c3b11e8198002e1",
   "outputs": [],
   "execution_count": null
  },
  {
   "metadata": {
    "ExecuteTime": {
     "end_time": "2025-07-02T20:14:04.021697Z",
     "start_time": "2025-07-02T20:14:04.018157Z"
    }
   },
   "cell_type": "code",
   "source": "",
   "id": "8ff31b0e3c4e5e75",
   "outputs": [],
   "execution_count": null
  }
 ],
 "metadata": {
  "kernelspec": {
   "display_name": "Python 3",
   "language": "python",
   "name": "python3"
  },
  "language_info": {
   "codemirror_mode": {
    "name": "ipython",
    "version": 2
   },
   "file_extension": ".py",
   "mimetype": "text/x-python",
   "name": "python",
   "nbconvert_exporter": "python",
   "pygments_lexer": "ipython2",
   "version": "2.7.6"
  }
 },
 "nbformat": 4,
 "nbformat_minor": 5
}
