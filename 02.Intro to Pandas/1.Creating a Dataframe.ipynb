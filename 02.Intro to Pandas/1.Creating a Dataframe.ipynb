{
 "cells": [
  {
   "cell_type": "code",
   "id": "initial_id",
   "metadata": {
    "collapsed": true,
    "ExecuteTime": {
     "end_time": "2025-07-04T22:39:16.269878Z",
     "start_time": "2025-07-04T22:39:14.045271Z"
    }
   },
   "source": [
    "import pandas as pd\n",
    "import numpy as np"
   ],
   "outputs": [],
   "execution_count": 1
  },
  {
   "metadata": {},
   "cell_type": "markdown",
   "source": "# Creating a dataframe from an array",
   "id": "77355157ceaa751b"
  },
  {
   "metadata": {},
   "cell_type": "markdown",
   "source": "# Option 1",
   "id": "c2095f75a0e58daa"
  },
  {
   "metadata": {
    "ExecuteTime": {
     "end_time": "2025-07-04T22:40:50.095116Z",
     "start_time": "2025-07-04T22:40:50.079021Z"
    }
   },
   "cell_type": "code",
   "source": [
    "# creating an array\n",
    "data = np.array([[1, 4], [2, 5], [3, 6]])\n",
    "data"
   ],
   "id": "21ff389cafe0fbdd",
   "outputs": [
    {
     "data": {
      "text/plain": [
       "array([[1, 4],\n",
       "       [2, 5],\n",
       "       [3, 6]])"
      ]
     },
     "execution_count": 4,
     "metadata": {},
     "output_type": "execute_result"
    }
   ],
   "execution_count": 4
  },
  {
   "metadata": {
    "ExecuteTime": {
     "end_time": "2025-07-04T22:42:17.747169Z",
     "start_time": "2025-07-04T22:42:17.733674Z"
    }
   },
   "cell_type": "code",
   "source": [
    "# creating a dataframe\n",
    "df = pd.DataFrame(data, index = [\"row 1\", \"row 2\", \"row 3\"], columns = [\"col 1\", \"col 2\"])\n",
    "df"
   ],
   "id": "d19361abc257d05a",
   "outputs": [
    {
     "data": {
      "text/plain": [
       "       col 1  col 2\n",
       "row 1      1      4\n",
       "row 2      2      5\n",
       "row 3      3      6"
      ],
      "text/html": [
       "<div>\n",
       "<style scoped>\n",
       "    .dataframe tbody tr th:only-of-type {\n",
       "        vertical-align: middle;\n",
       "    }\n",
       "\n",
       "    .dataframe tbody tr th {\n",
       "        vertical-align: top;\n",
       "    }\n",
       "\n",
       "    .dataframe thead th {\n",
       "        text-align: right;\n",
       "    }\n",
       "</style>\n",
       "<table border=\"1\" class=\"dataframe\">\n",
       "  <thead>\n",
       "    <tr style=\"text-align: right;\">\n",
       "      <th></th>\n",
       "      <th>col 1</th>\n",
       "      <th>col 2</th>\n",
       "    </tr>\n",
       "  </thead>\n",
       "  <tbody>\n",
       "    <tr>\n",
       "      <th>row 1</th>\n",
       "      <td>1</td>\n",
       "      <td>4</td>\n",
       "    </tr>\n",
       "    <tr>\n",
       "      <th>row 2</th>\n",
       "      <td>2</td>\n",
       "      <td>5</td>\n",
       "    </tr>\n",
       "    <tr>\n",
       "      <th>row 3</th>\n",
       "      <td>3</td>\n",
       "      <td>6</td>\n",
       "    </tr>\n",
       "  </tbody>\n",
       "</table>\n",
       "</div>"
      ]
     },
     "execution_count": 7,
     "metadata": {},
     "output_type": "execute_result"
    }
   ],
   "execution_count": 7
  },
  {
   "metadata": {},
   "cell_type": "markdown",
   "source": "# Option 2",
   "id": "c9a9aaee078af24b"
  },
  {
   "metadata": {
    "ExecuteTime": {
     "end_time": "2025-07-04T22:45:03.232078Z",
     "start_time": "2025-07-04T22:45:03.223943Z"
    }
   },
   "cell_type": "code",
   "source": [
    "# creating an array with list shape\n",
    "data = [[1, 4], [2, 5], [3, 6]]"
   ],
   "id": "cd859b1c013e737f",
   "outputs": [],
   "execution_count": 12
  },
  {
   "metadata": {
    "ExecuteTime": {
     "end_time": "2025-07-04T22:45:03.822486Z",
     "start_time": "2025-07-04T22:45:03.814093Z"
    }
   },
   "cell_type": "code",
   "source": [
    "# creating a dataframe\n",
    "df = pd.DataFrame(data, index = [\"row 1\", \"row 2\", \"row 3\"], columns = [\"col 1\", \"col 2\"])"
   ],
   "id": "fcfd51a1eb3bc9c2",
   "outputs": [],
   "execution_count": 13
  },
  {
   "metadata": {
    "ExecuteTime": {
     "end_time": "2025-07-04T22:45:04.196475Z",
     "start_time": "2025-07-04T22:45:04.184839Z"
    }
   },
   "cell_type": "code",
   "source": "df",
   "id": "e3e48793d338133a",
   "outputs": [
    {
     "data": {
      "text/plain": [
       "       col 1  col 2\n",
       "row 1      1      4\n",
       "row 2      2      5\n",
       "row 3      3      6"
      ],
      "text/html": [
       "<div>\n",
       "<style scoped>\n",
       "    .dataframe tbody tr th:only-of-type {\n",
       "        vertical-align: middle;\n",
       "    }\n",
       "\n",
       "    .dataframe tbody tr th {\n",
       "        vertical-align: top;\n",
       "    }\n",
       "\n",
       "    .dataframe thead th {\n",
       "        text-align: right;\n",
       "    }\n",
       "</style>\n",
       "<table border=\"1\" class=\"dataframe\">\n",
       "  <thead>\n",
       "    <tr style=\"text-align: right;\">\n",
       "      <th></th>\n",
       "      <th>col 1</th>\n",
       "      <th>col 2</th>\n",
       "    </tr>\n",
       "  </thead>\n",
       "  <tbody>\n",
       "    <tr>\n",
       "      <th>row 1</th>\n",
       "      <td>1</td>\n",
       "      <td>4</td>\n",
       "    </tr>\n",
       "    <tr>\n",
       "      <th>row 2</th>\n",
       "      <td>2</td>\n",
       "      <td>5</td>\n",
       "    </tr>\n",
       "    <tr>\n",
       "      <th>row 3</th>\n",
       "      <td>3</td>\n",
       "      <td>6</td>\n",
       "    </tr>\n",
       "  </tbody>\n",
       "</table>\n",
       "</div>"
      ]
     },
     "execution_count": 14,
     "metadata": {},
     "output_type": "execute_result"
    }
   ],
   "execution_count": 14
  },
  {
   "metadata": {},
   "cell_type": "markdown",
   "source": "# Creating a Dataframe from a Dictionary",
   "id": "f78a51369d00150d"
  },
  {
   "metadata": {
    "ExecuteTime": {
     "end_time": "2025-07-04T23:22:02.995946Z",
     "start_time": "2025-07-04T23:22:02.985583Z"
    }
   },
   "cell_type": "code",
   "source": [
    "states = [\"California\", \"Texas\", \"Florida\", \"New York\"]\n",
    "populations = [39613493, 29730311, 21944577, 19299981]"
   ],
   "id": "fc85dc49ed9a2a43",
   "outputs": [],
   "execution_count": 15
  },
  {
   "metadata": {
    "ExecuteTime": {
     "end_time": "2025-07-04T23:23:54.416502Z",
     "start_time": "2025-07-04T23:23:54.402485Z"
    }
   },
   "cell_type": "code",
   "source": [
    "# storing lists within a dictionary\n",
    "dict_states = {\"States\": states, \"Population\": populations}\n",
    "dict_states"
   ],
   "id": "cc00d8413e3682e7",
   "outputs": [
    {
     "data": {
      "text/plain": [
       "{'States': ['California', 'Texas', 'Florida', 'New York'],\n",
       " 'Population': [39613493, 29730311, 21944577, 19299981]}"
      ]
     },
     "execution_count": 19,
     "metadata": {},
     "output_type": "execute_result"
    }
   ],
   "execution_count": 19
  },
  {
   "metadata": {
    "ExecuteTime": {
     "end_time": "2025-07-04T23:23:54.969643Z",
     "start_time": "2025-07-04T23:23:54.959531Z"
    }
   },
   "cell_type": "code",
   "source": [
    "# creating a dataframe\n",
    "df = pd.DataFrame(dict_states)"
   ],
   "id": "f20374778e7a1aa9",
   "outputs": [],
   "execution_count": 20
  },
  {
   "metadata": {
    "ExecuteTime": {
     "end_time": "2025-07-04T23:23:55.485713Z",
     "start_time": "2025-07-04T23:23:55.472267Z"
    }
   },
   "cell_type": "code",
   "source": "df",
   "id": "d2f0f91ff5013a1b",
   "outputs": [
    {
     "data": {
      "text/plain": [
       "       States  Population\n",
       "0  California    39613493\n",
       "1       Texas    29730311\n",
       "2     Florida    21944577\n",
       "3    New York    19299981"
      ],
      "text/html": [
       "<div>\n",
       "<style scoped>\n",
       "    .dataframe tbody tr th:only-of-type {\n",
       "        vertical-align: middle;\n",
       "    }\n",
       "\n",
       "    .dataframe tbody tr th {\n",
       "        vertical-align: top;\n",
       "    }\n",
       "\n",
       "    .dataframe thead th {\n",
       "        text-align: right;\n",
       "    }\n",
       "</style>\n",
       "<table border=\"1\" class=\"dataframe\">\n",
       "  <thead>\n",
       "    <tr style=\"text-align: right;\">\n",
       "      <th></th>\n",
       "      <th>States</th>\n",
       "      <th>Population</th>\n",
       "    </tr>\n",
       "  </thead>\n",
       "  <tbody>\n",
       "    <tr>\n",
       "      <th>0</th>\n",
       "      <td>California</td>\n",
       "      <td>39613493</td>\n",
       "    </tr>\n",
       "    <tr>\n",
       "      <th>1</th>\n",
       "      <td>Texas</td>\n",
       "      <td>29730311</td>\n",
       "    </tr>\n",
       "    <tr>\n",
       "      <th>2</th>\n",
       "      <td>Florida</td>\n",
       "      <td>21944577</td>\n",
       "    </tr>\n",
       "    <tr>\n",
       "      <th>3</th>\n",
       "      <td>New York</td>\n",
       "      <td>19299981</td>\n",
       "    </tr>\n",
       "  </tbody>\n",
       "</table>\n",
       "</div>"
      ]
     },
     "execution_count": 21,
     "metadata": {},
     "output_type": "execute_result"
    }
   ],
   "execution_count": 21
  },
  {
   "metadata": {},
   "cell_type": "code",
   "outputs": [],
   "execution_count": null,
   "source": "",
   "id": "1dd0d1ad20f7eefc"
  }
 ],
 "metadata": {
  "kernelspec": {
   "display_name": "Python 3",
   "language": "python",
   "name": "python3"
  },
  "language_info": {
   "codemirror_mode": {
    "name": "ipython",
    "version": 2
   },
   "file_extension": ".py",
   "mimetype": "text/x-python",
   "name": "python",
   "nbconvert_exporter": "python",
   "pygments_lexer": "ipython2",
   "version": "2.7.6"
  }
 },
 "nbformat": 4,
 "nbformat_minor": 5
}
