{
 "cells": [
  {
   "cell_type": "code",
   "id": "initial_id",
   "metadata": {
    "collapsed": true,
    "ExecuteTime": {
     "end_time": "2025-07-10T14:09:52.932390Z",
     "start_time": "2025-07-10T14:09:49.896672Z"
    }
   },
   "source": "import pandas as pd",
   "outputs": [],
   "execution_count": 1
  },
  {
   "metadata": {
    "ExecuteTime": {
     "end_time": "2025-07-10T14:09:53.055273Z",
     "start_time": "2025-07-10T14:09:52.958354Z"
    }
   },
   "cell_type": "code",
   "source": [
    "# reading the csv file\n",
    "df_exams = pd.read_csv(\"StudentsPerformance.csv\")\n",
    "df_exams.head()"
   ],
   "id": "7c76fa9b0fc09b03",
   "outputs": [
    {
     "data": {
      "text/plain": [
       "   gender race/ethnicity parental level of education         lunch  \\\n",
       "0  female        group B           bachelor's degree      standard   \n",
       "1  female        group C                some college      standard   \n",
       "2  female        group B             master's degree      standard   \n",
       "3    male        group A          associate's degree  free/reduced   \n",
       "4    male        group C                some college      standard   \n",
       "\n",
       "  test preparation course  math score  reading score  writing score  \n",
       "0                    none          72             72             74  \n",
       "1               completed          69             90             88  \n",
       "2                    none          90             95             93  \n",
       "3                    none          47             57             44  \n",
       "4                    none          76             78             75  "
      ],
      "text/html": [
       "<div>\n",
       "<style scoped>\n",
       "    .dataframe tbody tr th:only-of-type {\n",
       "        vertical-align: middle;\n",
       "    }\n",
       "\n",
       "    .dataframe tbody tr th {\n",
       "        vertical-align: top;\n",
       "    }\n",
       "\n",
       "    .dataframe thead th {\n",
       "        text-align: right;\n",
       "    }\n",
       "</style>\n",
       "<table border=\"1\" class=\"dataframe\">\n",
       "  <thead>\n",
       "    <tr style=\"text-align: right;\">\n",
       "      <th></th>\n",
       "      <th>gender</th>\n",
       "      <th>race/ethnicity</th>\n",
       "      <th>parental level of education</th>\n",
       "      <th>lunch</th>\n",
       "      <th>test preparation course</th>\n",
       "      <th>math score</th>\n",
       "      <th>reading score</th>\n",
       "      <th>writing score</th>\n",
       "    </tr>\n",
       "  </thead>\n",
       "  <tbody>\n",
       "    <tr>\n",
       "      <th>0</th>\n",
       "      <td>female</td>\n",
       "      <td>group B</td>\n",
       "      <td>bachelor's degree</td>\n",
       "      <td>standard</td>\n",
       "      <td>none</td>\n",
       "      <td>72</td>\n",
       "      <td>72</td>\n",
       "      <td>74</td>\n",
       "    </tr>\n",
       "    <tr>\n",
       "      <th>1</th>\n",
       "      <td>female</td>\n",
       "      <td>group C</td>\n",
       "      <td>some college</td>\n",
       "      <td>standard</td>\n",
       "      <td>completed</td>\n",
       "      <td>69</td>\n",
       "      <td>90</td>\n",
       "      <td>88</td>\n",
       "    </tr>\n",
       "    <tr>\n",
       "      <th>2</th>\n",
       "      <td>female</td>\n",
       "      <td>group B</td>\n",
       "      <td>master's degree</td>\n",
       "      <td>standard</td>\n",
       "      <td>none</td>\n",
       "      <td>90</td>\n",
       "      <td>95</td>\n",
       "      <td>93</td>\n",
       "    </tr>\n",
       "    <tr>\n",
       "      <th>3</th>\n",
       "      <td>male</td>\n",
       "      <td>group A</td>\n",
       "      <td>associate's degree</td>\n",
       "      <td>free/reduced</td>\n",
       "      <td>none</td>\n",
       "      <td>47</td>\n",
       "      <td>57</td>\n",
       "      <td>44</td>\n",
       "    </tr>\n",
       "    <tr>\n",
       "      <th>4</th>\n",
       "      <td>male</td>\n",
       "      <td>group C</td>\n",
       "      <td>some college</td>\n",
       "      <td>standard</td>\n",
       "      <td>none</td>\n",
       "      <td>76</td>\n",
       "      <td>78</td>\n",
       "      <td>75</td>\n",
       "    </tr>\n",
       "  </tbody>\n",
       "</table>\n",
       "</div>"
      ]
     },
     "execution_count": 2,
     "metadata": {},
     "output_type": "execute_result"
    }
   ],
   "execution_count": 2
  },
  {
   "metadata": {},
   "cell_type": "markdown",
   "source": "# Adding a New Column",
   "id": "36bdb142b7b5693f"
  },
  {
   "metadata": {},
   "cell_type": "markdown",
   "source": "## assign()",
   "id": "5dd3d3540a96ea62"
  },
  {
   "metadata": {},
   "cell_type": "markdown",
   "source": [
    "When to use assign?\n",
    "- Add multiple columns in a single line of code\n",
    "- When you need to overwrite the values of an existing columns (best practice)"
   ],
   "id": "8c911ebf2534ae98"
  },
  {
   "metadata": {},
   "cell_type": "markdown",
   "source": "It returns a new object (a copy) with all the original columns in addition to the new ones",
   "id": "64c5aa9361e02289"
  },
  {
   "metadata": {
    "ExecuteTime": {
     "end_time": "2025-07-10T14:09:53.135625Z",
     "start_time": "2025-07-10T14:09:53.116491Z"
    }
   },
   "cell_type": "code",
   "source": [
    "# importing numpy\n",
    "import numpy as np"
   ],
   "id": "5334ec9e7b5498c5",
   "outputs": [],
   "execution_count": 3
  },
  {
   "metadata": {
    "ExecuteTime": {
     "end_time": "2025-07-10T14:09:53.212437Z",
     "start_time": "2025-07-10T14:09:53.191398Z"
    }
   },
   "cell_type": "code",
   "source": [
    "# creating random numbers for our new columns\n",
    "score_1 = np.random.randint(1, 100, size = 1000)\n",
    "score_2 = np.random.randint(1, 100, size = 1000)"
   ],
   "id": "b0b36558660e3e14",
   "outputs": [],
   "execution_count": 4
  },
  {
   "metadata": {
    "ExecuteTime": {
     "end_time": "2025-07-10T14:09:53.303908Z",
     "start_time": "2025-07-10T14:09:53.267994Z"
    }
   },
   "cell_type": "code",
   "source": [
    "# showing the random numbers\n",
    "print(score_1, \"\\n\")\n",
    "print(score_2)"
   ],
   "id": "4980c6db1f165476",
   "outputs": [
    {
     "name": "stdout",
     "output_type": "stream",
     "text": [
      "[18 38 48  4 83 81 87 39 32 87 15 43  7  4 20 84 60 99 92 63 46 72 41 24\n",
      " 49 81 53 44 59 19 20 93 46 65 21 94 67 96 39 14 92 64 15 11 22 79 62 82\n",
      "  1  3 94 70 63 11 27 73 24  3  7 76 90 46 94 64 10 46 78 41 80 60 38 26\n",
      " 39 23 58 53 38 42 23 64 10 48 71 50 23 90 66 87 19 74 59  6 91 53 85 54\n",
      " 32 69 50 71  1 23 76 88 66 32  7 69 87  1 55 15 70 65 75 39 97 53 62 10\n",
      " 46 88 31  5 53 61 88 23 91 94 26 97 22 76 83 46 49 26 86 53 55  8 19 60\n",
      " 26  2 24 56 92 59 63 79 71 79 83 37 23  8 57 24 48 61 60 96 67 93 65 37\n",
      " 32  7 86 82  5 26 54 45 17 60 85 42 62 73  9  6 71 83 12 59 64 11 58 12\n",
      " 93 91 88 69 43 11 98  7 22 22 94 45 22 75 92 44  2 11 65 43  5 39 31 84\n",
      " 76 85 39 31  3 20 52 91 71 83  3 49 11  9 51 18 16 80 50  3  2 42 95 88\n",
      " 74 26 40 11 92 49 51 38 39 44 58 98 11  4 63 12 48 15 60 70 75 38 24 46\n",
      " 91 33 99 85 32 11 46 24  4 62 12 41 53 92 78 83 41 31 40 56 42 55 41 56\n",
      " 63 50  2 31 58 77  7 22 35 73 72 64 90 99 25  3 13 38 61 25 91 35 50 50\n",
      " 57 85  8 12  3 49 32 25 21 82 46 77 35 13 36 86 70 37 66 34 47 12 32 98\n",
      " 46 88 78 80 24 58 55 23 49 39 33 45 14 91 64 73  5 76 85 46 72 87 10 53\n",
      " 56 86 52 76 39 95 92 69  9  9 43 25 30 18 61 93 47 80 89 47 61 91 27 26\n",
      " 84 59  1 22 44 26 93 94 75 63 73 15 53 72 10 74 34 19 58 55 68 54 68  1\n",
      " 86 64 49 29 73 86  6 34 58 92 75 50 32 49 86 53 82 55 21 46 76 16 67 79\n",
      " 95 21 31 66 60 30 86 89 20 78 75 76 81 94 35 45  2 86 65 23 28 13 16  1\n",
      " 58 96 93 66  8 35  5 18 45 78 59  6 66 66  6 90 64 90 47 75 51 72 65 87\n",
      " 54 28 70 36  6  4 32 58 85 55 70 19 34 63  7 82 36  6 62 35 60 65 60 25\n",
      " 14 49 77 26 79 30  6 30 74 64 97 52 92 67 45 78 91 23 17 64 62 47 18  1\n",
      "  2 97 15 30 76 48 12 20 64 19  8 65 81 16 62 71 61 57  5 29  5  9 34  6\n",
      " 11 76 67 57 10 78 47 97 68 77 25 58 71 36 13 91 68 12  3 81 14 30 14 26\n",
      " 45  4  2 11 18 88 69 11 25 43 25 88 54 25 98 24 54 63 21 82 29 20 68  7\n",
      " 73 95 50 71 70 16 45 49 33  4 68 14 67 35 36 14 54  8 19 99 64 21 67 22\n",
      " 83 83 55 61 83 35 50 62 19 70 47 83 76 43 20 26 88 64 88 90  1 47 37 39\n",
      " 15 38 21 66 95 57 91 69 94 54 91 75 20 55 41 97  6 41 16 40 77 35 17 55\n",
      " 56 44 98 36 71 40 35 78 84 81 62 52  9 64 86 21 94 90 62 86 34 48 12  1\n",
      "  1  1 74  8 17 47 12 92 91 96 26 91 19 43 35 42 95 77 22 34 64 74 54 28\n",
      " 29 22  2 69  4 78 15 70 81 53 30  5 50 47 58 71 46  1 27 20  6 75 20 75\n",
      " 61 16  4 22 50 88 88 89 99 64  7 67 85  7 24 64 69 82 25  3 98 52 65 52\n",
      " 45 85 66 55 37 79 63 78 65 83 18 21 94  3 53 29 71 99 79 91  3  6 31 77\n",
      "  5 72 27 55 61  7 52 52 65 24 58 82 15 95 25 89 43 85 75 69 39 99 37 20\n",
      " 37 87 43 53 85 99 17 59 76 68 77 53  8 81 36 60 45 63 50 20  2 82 36 50\n",
      "  2 43 23 33 21 36 63 90 26 12 70 89 45 62 25 28 35 90 45 85 19 62 60 71\n",
      " 42 10 76 91 55 72 43 48  3  4 79 14 80 14 58 22 80 68 61 71 99 56 80 59\n",
      " 31 78 41 29 46  1 28 11 40 52 66 16 90 35 86 58 26 90 15 56 14 31  7 53\n",
      " 42 78 94 32 50 32  3 51 47 93 25 82 88 50 65  1  6 64 53 62 80 35 55 38\n",
      " 73 54 77 51 92 62 70 13 33 74 93 87 58 71 46 44  5 47 92 53 99 64 13 15\n",
      " 72 62 23 39 10 23 34 23 54 19 55 75 63 25 50  1 25 65 25 42 77 50 62 42\n",
      " 60 38 49 59 48 59 47 64 85 10 18 61 49 88 77 14] \n",
      "\n",
      "[73  1 15 48 36 74 25 23  9  9 94 69 30 57 53 41 92 14 80 71 13  8 92 93\n",
      " 61 39 46 12 26 53 23 39 40 68 84 81 33 66 92 73 17  2 16 76 86 64 27 84\n",
      " 72 16 41 99 32 61 27 85 88 18 16 17 83 22 24 87 31 28 53 69 51  3 97 92\n",
      " 30 42 33 14 55 59 35 77 98 57 54 52 52 66 72 29 92 86 59 48 34 45 24 46\n",
      " 86 62 90 69 85 65 69 67 33  2  3 30 85 82 47 10 54 13 12  8 51 69  2 89\n",
      " 61  6 14 49 23 80 21  1 94  4 12 86  6 99 37  5 93 38 81 46 88 35 70 46\n",
      " 73  3 99 24 10 85 49 37 86 48 41 66 37 85 38 18 50 37 72 60  6 79 28 97\n",
      " 44 46 84 61 40 40  5 53 37 28 84 45 56 82 48 66 17 35 32  3 76 95 18 52\n",
      " 40 19 86 91 80 28 55 44 61 32 15 77 23  8 95  3  1 14 12 14  1 11 88 45\n",
      " 69 13 60 31 87 79 47 85 81 30 74  8 55 65 79 80 19 25 85 76 59 96 34 40\n",
      "  8 14 79 85 84 15 30 70 98 86 71 14 45 65 26 50 38 11 99 80 39 22 88 24\n",
      " 40 75 97 67 40 43 75 11 10  5 65 76 46 70 55 76 67 30 62 35 60 63  7 93\n",
      " 19 24  7 95 42 27 14 73 11 26 23  5 29 65 32 69 66 53 41 20 98 16 96 48\n",
      " 44 47 10 35 87 76 84 86 61 89 27 20 16 98 88 82  1 11 44  4 18 64 39 85\n",
      "  2 87 62 65 18 12 13 23 83 28 98 66 38 17 75 68 31 30 27 16 15 91 54 94\n",
      " 55 60 28 54 86 78 73 71 14 13 68 82 17 35 89  8 84 96 19 27 53 89  8 40\n",
      " 75 23 93 39 60 70  6 64 70 87 35 91 70 26 83 50 77 99 19 68 76 67 72 83\n",
      " 26 43 27  4 87 28 83  3 39 51 81 39  2  4  3 40 64 89 92 26 76 61 52 92\n",
      " 73 95 98 60 94 18 82 38 43  6 89  9 39  7 55 14 40 53 93 94 39 16 11 28\n",
      "  5 59 81  2 86  4 58 18 44 13 78 77 33 20  1 69 81 81 53 40 48 49 34 73\n",
      " 37 89 51 74 60 85 81 49 19 25 36 43 38 42 82 70 57 27 56 21  5 26 91 84\n",
      " 62 19 80 66 44 30 28 86 66 21 57  3 65 14 77 78 43 75 14 96 96 40 43 26\n",
      "  6 70  4 43 26 65 48 51 92 94 44 30 74 72 34 95 29 73 81 10 41 63 99 83\n",
      " 75 98 79 81 64 76 50 79 28 43  3 76 28 57 41 67 46 70 98 75 35 20 87 68\n",
      "  2 33 86 27 74 53 79 86 92 49 99 33 56 13 10 22 31 29 64 23 42 21 74 47\n",
      " 63 97  8 81 26 31 90 57  8 48 35 29 74 51 60 91 11 26 11  3 93 41  4 27\n",
      "  5 43 92 60 98 90 55 19 93 50 25 32  4 45 48 37 65 25 22 88 76 92 47 82\n",
      " 84 29 68 35 81 53 88 98 75 82 44  6 57 94 67 44 36 75 26 49  2 48 35 57\n",
      " 47 75 76 70 82 42 44 38  9 80 56 46 66 81 74 38 90 15 57 71 53 48 79 84\n",
      "  4 23 63 33 53 80 87 22 34 48 33 32 72  3 43 19 88 64 90 58 88 33 31 40\n",
      " 41 94 88 98 42 93 10 98 31 25 48 74 57 29 22 69 66 80 18  6 72 93 67 95\n",
      " 52 59 71 11 56 62 61  1 61 85 61 64 56 36  1 45 53 21 77 63  6 21 19 98\n",
      " 60 44 69 51 80 49 22 14  4 85 82 18  7 37 29 86 68 10 68 51 27 31  4 48\n",
      " 28  6 23 70 66 48 83 23 44 33 26 42 87 18 92 95 32 74 65 55 42 57 62 64\n",
      " 56 87 25 82 53 17  8 66 45 76 15 61 83  3 61 46 96 36 30 84 35 99 14 65\n",
      " 89 67 72 42 53 88 83 66  5 96 67 64 19 57 91 84 69 60 65 59  3 45  6 83\n",
      " 67 73 75 36 59 22 87 92  5 79 96  4  8 78 33 37 25 52 14 65  7 88 61 95\n",
      " 93  3  9 42 10 31 54 16 99 33  2 11 33 59 10 56 58 99 39 36  3 67 59 91\n",
      " 36 52 51 30 49 69  4 35 50 25 72 88 93 48 59 57  2 33 58 15 18  3 24 77\n",
      " 20 85 70  4 25 17 84 27 11 44 90 63 89  7 23 57 66 65  7 57 42 64 77 57\n",
      " 16 18 11 49 58 84 43 16 70 27 41 78 61 91 21 13 72 63 21 28 92 47  6 27\n",
      " 49 98 82 38 43 15 76 48 91 53 76 85 88 84  5  8]\n"
     ]
    }
   ],
   "execution_count": 5
  },
  {
   "metadata": {
    "ExecuteTime": {
     "end_time": "2025-07-10T14:09:53.447616Z",
     "start_time": "2025-07-10T14:09:53.431475Z"
    }
   },
   "cell_type": "code",
   "source": [
    "# create a series using the random numbers\n",
    "series_1 = pd.Series(score_1)\n",
    "series_2 = pd.Series(score_2)"
   ],
   "id": "a77328df836897dd",
   "outputs": [],
   "execution_count": 6
  },
  {
   "metadata": {
    "ExecuteTime": {
     "end_time": "2025-07-10T14:09:53.523096Z",
     "start_time": "2025-07-10T14:09:53.503389Z"
    }
   },
   "cell_type": "code",
   "source": [
    "# showing the series of random numbers\n",
    "print(series_1, \"\\n\")\n",
    "print(series_2)"
   ],
   "id": "e80db0237677cf1",
   "outputs": [
    {
     "name": "stdout",
     "output_type": "stream",
     "text": [
      "0      18\n",
      "1      38\n",
      "2      48\n",
      "3       4\n",
      "4      83\n",
      "       ..\n",
      "995    61\n",
      "996    49\n",
      "997    88\n",
      "998    77\n",
      "999    14\n",
      "Length: 1000, dtype: int32 \n",
      "\n",
      "0      73\n",
      "1       1\n",
      "2      15\n",
      "3      48\n",
      "4      36\n",
      "       ..\n",
      "995    85\n",
      "996    88\n",
      "997    84\n",
      "998     5\n",
      "999     8\n",
      "Length: 1000, dtype: int32\n"
     ]
    }
   ],
   "execution_count": 7
  },
  {
   "metadata": {
    "ExecuteTime": {
     "end_time": "2025-07-10T14:09:53.570990Z",
     "start_time": "2025-07-10T14:09:53.555932Z"
    }
   },
   "cell_type": "code",
   "source": [
    "# using assign to add multiple columns\n",
    "df_exams = df_exams.assign(score1 = series_1, score2 = series_2)"
   ],
   "id": "85ed4f8235d2c977",
   "outputs": [],
   "execution_count": 8
  },
  {
   "metadata": {
    "ExecuteTime": {
     "end_time": "2025-07-10T14:09:53.651586Z",
     "start_time": "2025-07-10T14:09:53.600905Z"
    }
   },
   "cell_type": "code",
   "source": "df_exams.head()",
   "id": "d47c7f10811db18e",
   "outputs": [
    {
     "data": {
      "text/plain": [
       "   gender race/ethnicity parental level of education         lunch  \\\n",
       "0  female        group B           bachelor's degree      standard   \n",
       "1  female        group C                some college      standard   \n",
       "2  female        group B             master's degree      standard   \n",
       "3    male        group A          associate's degree  free/reduced   \n",
       "4    male        group C                some college      standard   \n",
       "\n",
       "  test preparation course  math score  reading score  writing score  score1  \\\n",
       "0                    none          72             72             74      18   \n",
       "1               completed          69             90             88      38   \n",
       "2                    none          90             95             93      48   \n",
       "3                    none          47             57             44       4   \n",
       "4                    none          76             78             75      83   \n",
       "\n",
       "   score2  \n",
       "0      73  \n",
       "1       1  \n",
       "2      15  \n",
       "3      48  \n",
       "4      36  "
      ],
      "text/html": [
       "<div>\n",
       "<style scoped>\n",
       "    .dataframe tbody tr th:only-of-type {\n",
       "        vertical-align: middle;\n",
       "    }\n",
       "\n",
       "    .dataframe tbody tr th {\n",
       "        vertical-align: top;\n",
       "    }\n",
       "\n",
       "    .dataframe thead th {\n",
       "        text-align: right;\n",
       "    }\n",
       "</style>\n",
       "<table border=\"1\" class=\"dataframe\">\n",
       "  <thead>\n",
       "    <tr style=\"text-align: right;\">\n",
       "      <th></th>\n",
       "      <th>gender</th>\n",
       "      <th>race/ethnicity</th>\n",
       "      <th>parental level of education</th>\n",
       "      <th>lunch</th>\n",
       "      <th>test preparation course</th>\n",
       "      <th>math score</th>\n",
       "      <th>reading score</th>\n",
       "      <th>writing score</th>\n",
       "      <th>score1</th>\n",
       "      <th>score2</th>\n",
       "    </tr>\n",
       "  </thead>\n",
       "  <tbody>\n",
       "    <tr>\n",
       "      <th>0</th>\n",
       "      <td>female</td>\n",
       "      <td>group B</td>\n",
       "      <td>bachelor's degree</td>\n",
       "      <td>standard</td>\n",
       "      <td>none</td>\n",
       "      <td>72</td>\n",
       "      <td>72</td>\n",
       "      <td>74</td>\n",
       "      <td>18</td>\n",
       "      <td>73</td>\n",
       "    </tr>\n",
       "    <tr>\n",
       "      <th>1</th>\n",
       "      <td>female</td>\n",
       "      <td>group C</td>\n",
       "      <td>some college</td>\n",
       "      <td>standard</td>\n",
       "      <td>completed</td>\n",
       "      <td>69</td>\n",
       "      <td>90</td>\n",
       "      <td>88</td>\n",
       "      <td>38</td>\n",
       "      <td>1</td>\n",
       "    </tr>\n",
       "    <tr>\n",
       "      <th>2</th>\n",
       "      <td>female</td>\n",
       "      <td>group B</td>\n",
       "      <td>master's degree</td>\n",
       "      <td>standard</td>\n",
       "      <td>none</td>\n",
       "      <td>90</td>\n",
       "      <td>95</td>\n",
       "      <td>93</td>\n",
       "      <td>48</td>\n",
       "      <td>15</td>\n",
       "    </tr>\n",
       "    <tr>\n",
       "      <th>3</th>\n",
       "      <td>male</td>\n",
       "      <td>group A</td>\n",
       "      <td>associate's degree</td>\n",
       "      <td>free/reduced</td>\n",
       "      <td>none</td>\n",
       "      <td>47</td>\n",
       "      <td>57</td>\n",
       "      <td>44</td>\n",
       "      <td>4</td>\n",
       "      <td>48</td>\n",
       "    </tr>\n",
       "    <tr>\n",
       "      <th>4</th>\n",
       "      <td>male</td>\n",
       "      <td>group C</td>\n",
       "      <td>some college</td>\n",
       "      <td>standard</td>\n",
       "      <td>none</td>\n",
       "      <td>76</td>\n",
       "      <td>78</td>\n",
       "      <td>75</td>\n",
       "      <td>83</td>\n",
       "      <td>36</td>\n",
       "    </tr>\n",
       "  </tbody>\n",
       "</table>\n",
       "</div>"
      ]
     },
     "execution_count": 9,
     "metadata": {},
     "output_type": "execute_result"
    }
   ],
   "execution_count": 9
  },
  {
   "metadata": {},
   "cell_type": "markdown",
   "source": "## Insert()",
   "id": "a61840fee00bb965"
  },
  {
   "metadata": {},
   "cell_type": "markdown",
   "source": "insert a new column at a specific position or index",
   "id": "623116b09078f7c1"
  },
  {
   "metadata": {
    "ExecuteTime": {
     "end_time": "2025-07-10T14:09:53.736258Z",
     "start_time": "2025-07-10T14:09:53.715933Z"
    }
   },
   "cell_type": "code",
   "source": "df_exams.insert(1, \"test\", series_1)",
   "id": "c413a905ed9a2794",
   "outputs": [],
   "execution_count": 10
  },
  {
   "metadata": {
    "ExecuteTime": {
     "end_time": "2025-07-10T14:09:53.847364Z",
     "start_time": "2025-07-10T14:09:53.786027Z"
    }
   },
   "cell_type": "code",
   "source": "df_exams.head()",
   "id": "dd08c3a9253fa9f4",
   "outputs": [
    {
     "data": {
      "text/plain": [
       "   gender  test race/ethnicity parental level of education         lunch  \\\n",
       "0  female    18        group B           bachelor's degree      standard   \n",
       "1  female    38        group C                some college      standard   \n",
       "2  female    48        group B             master's degree      standard   \n",
       "3    male     4        group A          associate's degree  free/reduced   \n",
       "4    male    83        group C                some college      standard   \n",
       "\n",
       "  test preparation course  math score  reading score  writing score  score1  \\\n",
       "0                    none          72             72             74      18   \n",
       "1               completed          69             90             88      38   \n",
       "2                    none          90             95             93      48   \n",
       "3                    none          47             57             44       4   \n",
       "4                    none          76             78             75      83   \n",
       "\n",
       "   score2  \n",
       "0      73  \n",
       "1       1  \n",
       "2      15  \n",
       "3      48  \n",
       "4      36  "
      ],
      "text/html": [
       "<div>\n",
       "<style scoped>\n",
       "    .dataframe tbody tr th:only-of-type {\n",
       "        vertical-align: middle;\n",
       "    }\n",
       "\n",
       "    .dataframe tbody tr th {\n",
       "        vertical-align: top;\n",
       "    }\n",
       "\n",
       "    .dataframe thead th {\n",
       "        text-align: right;\n",
       "    }\n",
       "</style>\n",
       "<table border=\"1\" class=\"dataframe\">\n",
       "  <thead>\n",
       "    <tr style=\"text-align: right;\">\n",
       "      <th></th>\n",
       "      <th>gender</th>\n",
       "      <th>test</th>\n",
       "      <th>race/ethnicity</th>\n",
       "      <th>parental level of education</th>\n",
       "      <th>lunch</th>\n",
       "      <th>test preparation course</th>\n",
       "      <th>math score</th>\n",
       "      <th>reading score</th>\n",
       "      <th>writing score</th>\n",
       "      <th>score1</th>\n",
       "      <th>score2</th>\n",
       "    </tr>\n",
       "  </thead>\n",
       "  <tbody>\n",
       "    <tr>\n",
       "      <th>0</th>\n",
       "      <td>female</td>\n",
       "      <td>18</td>\n",
       "      <td>group B</td>\n",
       "      <td>bachelor's degree</td>\n",
       "      <td>standard</td>\n",
       "      <td>none</td>\n",
       "      <td>72</td>\n",
       "      <td>72</td>\n",
       "      <td>74</td>\n",
       "      <td>18</td>\n",
       "      <td>73</td>\n",
       "    </tr>\n",
       "    <tr>\n",
       "      <th>1</th>\n",
       "      <td>female</td>\n",
       "      <td>38</td>\n",
       "      <td>group C</td>\n",
       "      <td>some college</td>\n",
       "      <td>standard</td>\n",
       "      <td>completed</td>\n",
       "      <td>69</td>\n",
       "      <td>90</td>\n",
       "      <td>88</td>\n",
       "      <td>38</td>\n",
       "      <td>1</td>\n",
       "    </tr>\n",
       "    <tr>\n",
       "      <th>2</th>\n",
       "      <td>female</td>\n",
       "      <td>48</td>\n",
       "      <td>group B</td>\n",
       "      <td>master's degree</td>\n",
       "      <td>standard</td>\n",
       "      <td>none</td>\n",
       "      <td>90</td>\n",
       "      <td>95</td>\n",
       "      <td>93</td>\n",
       "      <td>48</td>\n",
       "      <td>15</td>\n",
       "    </tr>\n",
       "    <tr>\n",
       "      <th>3</th>\n",
       "      <td>male</td>\n",
       "      <td>4</td>\n",
       "      <td>group A</td>\n",
       "      <td>associate's degree</td>\n",
       "      <td>free/reduced</td>\n",
       "      <td>none</td>\n",
       "      <td>47</td>\n",
       "      <td>57</td>\n",
       "      <td>44</td>\n",
       "      <td>4</td>\n",
       "      <td>48</td>\n",
       "    </tr>\n",
       "    <tr>\n",
       "      <th>4</th>\n",
       "      <td>male</td>\n",
       "      <td>83</td>\n",
       "      <td>group C</td>\n",
       "      <td>some college</td>\n",
       "      <td>standard</td>\n",
       "      <td>none</td>\n",
       "      <td>76</td>\n",
       "      <td>78</td>\n",
       "      <td>75</td>\n",
       "      <td>83</td>\n",
       "      <td>36</td>\n",
       "    </tr>\n",
       "  </tbody>\n",
       "</table>\n",
       "</div>"
      ]
     },
     "execution_count": 11,
     "metadata": {},
     "output_type": "execute_result"
    }
   ],
   "execution_count": 11
  },
  {
   "metadata": {
    "ExecuteTime": {
     "end_time": "2025-07-10T14:09:53.985926Z",
     "start_time": "2025-07-10T14:09:53.976342Z"
    }
   },
   "cell_type": "code",
   "source": "",
   "id": "349bca7e5591d6c",
   "outputs": [],
   "execution_count": null
  }
 ],
 "metadata": {
  "kernelspec": {
   "display_name": "Python 3",
   "language": "python",
   "name": "python3"
  },
  "language_info": {
   "codemirror_mode": {
    "name": "ipython",
    "version": 2
   },
   "file_extension": ".py",
   "mimetype": "text/x-python",
   "name": "python",
   "nbconvert_exporter": "python",
   "pygments_lexer": "ipython2",
   "version": "2.7.6"
  }
 },
 "nbformat": 4,
 "nbformat_minor": 5
}
