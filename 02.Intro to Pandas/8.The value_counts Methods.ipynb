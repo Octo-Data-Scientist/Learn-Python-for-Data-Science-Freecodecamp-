{
 "cells": [
  {
   "cell_type": "code",
   "id": "initial_id",
   "metadata": {
    "collapsed": true,
    "ExecuteTime": {
     "end_time": "2025-07-10T17:10:07.048339Z",
     "start_time": "2025-07-10T17:10:06.250249Z"
    }
   },
   "source": "import pandas as pd",
   "outputs": [],
   "execution_count": 3
  },
  {
   "metadata": {
    "ExecuteTime": {
     "end_time": "2025-07-10T17:10:07.910459Z",
     "start_time": "2025-07-10T17:10:07.841019Z"
    }
   },
   "cell_type": "code",
   "source": [
    "# reading the csv file\n",
    "df_exams = pd.read_csv(\"StudentsPerformance.csv\")\n",
    "df_exams.head()"
   ],
   "id": "d9dc0df022db4359",
   "outputs": [
    {
     "data": {
      "text/plain": [
       "   gender race/ethnicity parental level of education         lunch  \\\n",
       "0  female        group B           bachelor's degree      standard   \n",
       "1  female        group C                some college      standard   \n",
       "2  female        group B             master's degree      standard   \n",
       "3    male        group A          associate's degree  free/reduced   \n",
       "4    male        group C                some college      standard   \n",
       "\n",
       "  test preparation course  math score  reading score  writing score  \n",
       "0                    none          72             72             74  \n",
       "1               completed          69             90             88  \n",
       "2                    none          90             95             93  \n",
       "3                    none          47             57             44  \n",
       "4                    none          76             78             75  "
      ],
      "text/html": [
       "<div>\n",
       "<style scoped>\n",
       "    .dataframe tbody tr th:only-of-type {\n",
       "        vertical-align: middle;\n",
       "    }\n",
       "\n",
       "    .dataframe tbody tr th {\n",
       "        vertical-align: top;\n",
       "    }\n",
       "\n",
       "    .dataframe thead th {\n",
       "        text-align: right;\n",
       "    }\n",
       "</style>\n",
       "<table border=\"1\" class=\"dataframe\">\n",
       "  <thead>\n",
       "    <tr style=\"text-align: right;\">\n",
       "      <th></th>\n",
       "      <th>gender</th>\n",
       "      <th>race/ethnicity</th>\n",
       "      <th>parental level of education</th>\n",
       "      <th>lunch</th>\n",
       "      <th>test preparation course</th>\n",
       "      <th>math score</th>\n",
       "      <th>reading score</th>\n",
       "      <th>writing score</th>\n",
       "    </tr>\n",
       "  </thead>\n",
       "  <tbody>\n",
       "    <tr>\n",
       "      <th>0</th>\n",
       "      <td>female</td>\n",
       "      <td>group B</td>\n",
       "      <td>bachelor's degree</td>\n",
       "      <td>standard</td>\n",
       "      <td>none</td>\n",
       "      <td>72</td>\n",
       "      <td>72</td>\n",
       "      <td>74</td>\n",
       "    </tr>\n",
       "    <tr>\n",
       "      <th>1</th>\n",
       "      <td>female</td>\n",
       "      <td>group C</td>\n",
       "      <td>some college</td>\n",
       "      <td>standard</td>\n",
       "      <td>completed</td>\n",
       "      <td>69</td>\n",
       "      <td>90</td>\n",
       "      <td>88</td>\n",
       "    </tr>\n",
       "    <tr>\n",
       "      <th>2</th>\n",
       "      <td>female</td>\n",
       "      <td>group B</td>\n",
       "      <td>master's degree</td>\n",
       "      <td>standard</td>\n",
       "      <td>none</td>\n",
       "      <td>90</td>\n",
       "      <td>95</td>\n",
       "      <td>93</td>\n",
       "    </tr>\n",
       "    <tr>\n",
       "      <th>3</th>\n",
       "      <td>male</td>\n",
       "      <td>group A</td>\n",
       "      <td>associate's degree</td>\n",
       "      <td>free/reduced</td>\n",
       "      <td>none</td>\n",
       "      <td>47</td>\n",
       "      <td>57</td>\n",
       "      <td>44</td>\n",
       "    </tr>\n",
       "    <tr>\n",
       "      <th>4</th>\n",
       "      <td>male</td>\n",
       "      <td>group C</td>\n",
       "      <td>some college</td>\n",
       "      <td>standard</td>\n",
       "      <td>none</td>\n",
       "      <td>76</td>\n",
       "      <td>78</td>\n",
       "      <td>75</td>\n",
       "    </tr>\n",
       "  </tbody>\n",
       "</table>\n",
       "</div>"
      ]
     },
     "execution_count": 4,
     "metadata": {},
     "output_type": "execute_result"
    }
   ],
   "execution_count": 4
  },
  {
   "metadata": {},
   "cell_type": "markdown",
   "source": "# Value Counts",
   "id": "b16bce15a79deb90"
  },
  {
   "metadata": {
    "ExecuteTime": {
     "end_time": "2025-07-10T17:10:57.426923Z",
     "start_time": "2025-07-10T17:10:57.416411Z"
    }
   },
   "cell_type": "code",
   "source": "df_exams.columns",
   "id": "90942b5bd20b73d7",
   "outputs": [
    {
     "data": {
      "text/plain": [
       "Index(['gender', 'race/ethnicity', 'parental level of education', 'lunch',\n",
       "       'test preparation course', 'math score', 'reading score',\n",
       "       'writing score'],\n",
       "      dtype='object')"
      ]
     },
     "execution_count": 7,
     "metadata": {},
     "output_type": "execute_result"
    }
   ],
   "execution_count": 7
  },
  {
   "metadata": {
    "ExecuteTime": {
     "end_time": "2025-07-10T17:10:11.939299Z",
     "start_time": "2025-07-10T17:10:11.915532Z"
    }
   },
   "cell_type": "code",
   "source": [
    "# counting gender element by category\n",
    "df_exams[\"gender\"].value_counts()"
   ],
   "id": "bdd6d9efa50da2f5",
   "outputs": [
    {
     "data": {
      "text/plain": [
       "gender\n",
       "female    518\n",
       "male      482\n",
       "Name: count, dtype: int64"
      ]
     },
     "execution_count": 5,
     "metadata": {},
     "output_type": "execute_result"
    }
   ],
   "execution_count": 5
  },
  {
   "metadata": {
    "ExecuteTime": {
     "end_time": "2025-07-10T17:10:37.214700Z",
     "start_time": "2025-07-10T17:10:37.199043Z"
    }
   },
   "cell_type": "code",
   "source": [
    "# return the relative frequency (divide all values by the sum of all values)\n",
    "df_exams[\"gender\"].value_counts(normalize = True)"
   ],
   "id": "3598cc555c0681ee",
   "outputs": [
    {
     "data": {
      "text/plain": [
       "gender\n",
       "female    0.518\n",
       "male      0.482\n",
       "Name: proportion, dtype: float64"
      ]
     },
     "execution_count": 6,
     "metadata": {},
     "output_type": "execute_result"
    }
   ],
   "execution_count": 6
  },
  {
   "metadata": {
    "ExecuteTime": {
     "end_time": "2025-07-10T17:11:53.050196Z",
     "start_time": "2025-07-10T17:11:53.038594Z"
    }
   },
   "cell_type": "code",
   "source": [
    "# counting race/ethnicity element by category\n",
    "df_exams[\"race/ethnicity\"].value_counts()"
   ],
   "id": "b2df842874b49f13",
   "outputs": [
    {
     "data": {
      "text/plain": [
       "race/ethnicity\n",
       "group C    319\n",
       "group D    262\n",
       "group B    190\n",
       "group E    140\n",
       "group A     89\n",
       "Name: count, dtype: int64"
      ]
     },
     "execution_count": 8,
     "metadata": {},
     "output_type": "execute_result"
    }
   ],
   "execution_count": 8
  },
  {
   "metadata": {
    "ExecuteTime": {
     "end_time": "2025-07-10T17:12:31.850348Z",
     "start_time": "2025-07-10T17:12:31.835426Z"
    }
   },
   "cell_type": "code",
   "source": [
    "# return the relative frequency\n",
    "df_exams[\"race/ethnicity\"].value_counts(normalize = True)"
   ],
   "id": "7ffd61ee7f6e1088",
   "outputs": [
    {
     "data": {
      "text/plain": [
       "race/ethnicity\n",
       "group C    0.319\n",
       "group D    0.262\n",
       "group B    0.190\n",
       "group E    0.140\n",
       "group A    0.089\n",
       "Name: proportion, dtype: float64"
      ]
     },
     "execution_count": 9,
     "metadata": {},
     "output_type": "execute_result"
    }
   ],
   "execution_count": 9
  },
  {
   "metadata": {
    "ExecuteTime": {
     "end_time": "2025-07-10T17:13:36.036293Z",
     "start_time": "2025-07-10T17:13:36.023831Z"
    }
   },
   "cell_type": "code",
   "source": [
    "# counting parental level of education elements by category\n",
    "df_exams[\"parental level of education\"].value_counts()"
   ],
   "id": "596849e9c04a249d",
   "outputs": [
    {
     "data": {
      "text/plain": [
       "parental level of education\n",
       "some college          226\n",
       "associate's degree    222\n",
       "high school           196\n",
       "some high school      179\n",
       "bachelor's degree     118\n",
       "master's degree        59\n",
       "Name: count, dtype: int64"
      ]
     },
     "execution_count": 10,
     "metadata": {},
     "output_type": "execute_result"
    }
   ],
   "execution_count": 10
  },
  {
   "metadata": {
    "ExecuteTime": {
     "end_time": "2025-07-10T17:14:01.689454Z",
     "start_time": "2025-07-10T17:14:01.660129Z"
    }
   },
   "cell_type": "code",
   "source": [
    "# return the relative frequency\n",
    "df_exams[\"parental level of education\"].value_counts(normalize = True)"
   ],
   "id": "63493315edbaefd2",
   "outputs": [
    {
     "data": {
      "text/plain": [
       "parental level of education\n",
       "some college          0.226\n",
       "associate's degree    0.222\n",
       "high school           0.196\n",
       "some high school      0.179\n",
       "bachelor's degree     0.118\n",
       "master's degree       0.059\n",
       "Name: proportion, dtype: float64"
      ]
     },
     "execution_count": 11,
     "metadata": {},
     "output_type": "execute_result"
    }
   ],
   "execution_count": 11
  },
  {
   "metadata": {
    "ExecuteTime": {
     "end_time": "2025-07-10T17:14:35.696021Z",
     "start_time": "2025-07-10T17:14:35.683918Z"
    }
   },
   "cell_type": "code",
   "source": [
    "# counting lunch elements by category\n",
    "df_exams[\"lunch\"].value_counts()"
   ],
   "id": "7a7912461ede9d64",
   "outputs": [
    {
     "data": {
      "text/plain": [
       "lunch\n",
       "standard        645\n",
       "free/reduced    355\n",
       "Name: count, dtype: int64"
      ]
     },
     "execution_count": 12,
     "metadata": {},
     "output_type": "execute_result"
    }
   ],
   "execution_count": 12
  },
  {
   "metadata": {
    "ExecuteTime": {
     "end_time": "2025-07-10T17:14:57.932744Z",
     "start_time": "2025-07-10T17:14:57.918987Z"
    }
   },
   "cell_type": "code",
   "source": [
    "# return the relative frequency\n",
    "df_exams[\"lunch\"].value_counts(normalize = True)"
   ],
   "id": "b27d3e0cf4cf6eb9",
   "outputs": [
    {
     "data": {
      "text/plain": [
       "lunch\n",
       "standard        0.645\n",
       "free/reduced    0.355\n",
       "Name: proportion, dtype: float64"
      ]
     },
     "execution_count": 13,
     "metadata": {},
     "output_type": "execute_result"
    }
   ],
   "execution_count": 13
  },
  {
   "metadata": {
    "ExecuteTime": {
     "end_time": "2025-07-10T17:16:00.452278Z",
     "start_time": "2025-07-10T17:16:00.440317Z"
    }
   },
   "cell_type": "code",
   "source": [
    "# counting test preparation course elements by category\n",
    "df_exams[\"test preparation course\"].value_counts()"
   ],
   "id": "5a26e77e2b7fb647",
   "outputs": [
    {
     "data": {
      "text/plain": [
       "test preparation course\n",
       "none         642\n",
       "completed    358\n",
       "Name: count, dtype: int64"
      ]
     },
     "execution_count": 14,
     "metadata": {},
     "output_type": "execute_result"
    }
   ],
   "execution_count": 14
  },
  {
   "metadata": {
    "ExecuteTime": {
     "end_time": "2025-07-10T17:16:24.210191Z",
     "start_time": "2025-07-10T17:16:24.197393Z"
    }
   },
   "cell_type": "code",
   "source": [
    "# return the relative frequency\n",
    "df_exams[\"test preparation course\"].value_counts(normalize = True)"
   ],
   "id": "9a3320706a5c6a78",
   "outputs": [
    {
     "data": {
      "text/plain": [
       "test preparation course\n",
       "none         0.642\n",
       "completed    0.358\n",
       "Name: proportion, dtype: float64"
      ]
     },
     "execution_count": 15,
     "metadata": {},
     "output_type": "execute_result"
    }
   ],
   "execution_count": 15
  },
  {
   "metadata": {},
   "cell_type": "code",
   "outputs": [],
   "execution_count": null,
   "source": "",
   "id": "6fd885c34a61fbcd"
  }
 ],
 "metadata": {
  "kernelspec": {
   "display_name": "Python 3",
   "language": "python",
   "name": "python3"
  },
  "language_info": {
   "codemirror_mode": {
    "name": "ipython",
    "version": 2
   },
   "file_extension": ".py",
   "mimetype": "text/x-python",
   "name": "python",
   "nbconvert_exporter": "python",
   "pygments_lexer": "ipython2",
   "version": "2.7.6"
  }
 },
 "nbformat": 4,
 "nbformat_minor": 5
}
