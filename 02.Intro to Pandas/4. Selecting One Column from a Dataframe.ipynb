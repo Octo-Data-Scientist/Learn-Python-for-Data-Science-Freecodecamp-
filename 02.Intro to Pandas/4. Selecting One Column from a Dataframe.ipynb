{
 "cells": [
  {
   "cell_type": "code",
   "id": "initial_id",
   "metadata": {
    "collapsed": true,
    "ExecuteTime": {
     "end_time": "2025-07-07T18:39:31.564606Z",
     "start_time": "2025-07-07T18:39:30.768572Z"
    }
   },
   "source": "import pandas as pd",
   "outputs": [],
   "execution_count": 1
  },
  {
   "metadata": {
    "ExecuteTime": {
     "end_time": "2025-07-07T18:39:31.587429Z",
     "start_time": "2025-07-07T18:39:31.569622Z"
    }
   },
   "cell_type": "code",
   "source": [
    "# reading the csv file\n",
    "df_exams = pd.read_csv(\"StudentsPerformance.csv\")"
   ],
   "id": "8f7dcb7c14e1f1f6",
   "outputs": [],
   "execution_count": 2
  },
  {
   "metadata": {
    "ExecuteTime": {
     "end_time": "2025-07-07T18:39:31.627988Z",
     "start_time": "2025-07-07T18:39:31.597618Z"
    }
   },
   "cell_type": "code",
   "source": "df_exams.head()",
   "id": "3c52cb2acfe47941",
   "outputs": [
    {
     "data": {
      "text/plain": [
       "   gender race/ethnicity parental level of education         lunch  \\\n",
       "0  female        group B           bachelor's degree      standard   \n",
       "1  female        group C                some college      standard   \n",
       "2  female        group B             master's degree      standard   \n",
       "3    male        group A          associate's degree  free/reduced   \n",
       "4    male        group C                some college      standard   \n",
       "\n",
       "  test preparation course  math score  reading score  writing score  \n",
       "0                    none          72             72             74  \n",
       "1               completed          69             90             88  \n",
       "2                    none          90             95             93  \n",
       "3                    none          47             57             44  \n",
       "4                    none          76             78             75  "
      ],
      "text/html": [
       "<div>\n",
       "<style scoped>\n",
       "    .dataframe tbody tr th:only-of-type {\n",
       "        vertical-align: middle;\n",
       "    }\n",
       "\n",
       "    .dataframe tbody tr th {\n",
       "        vertical-align: top;\n",
       "    }\n",
       "\n",
       "    .dataframe thead th {\n",
       "        text-align: right;\n",
       "    }\n",
       "</style>\n",
       "<table border=\"1\" class=\"dataframe\">\n",
       "  <thead>\n",
       "    <tr style=\"text-align: right;\">\n",
       "      <th></th>\n",
       "      <th>gender</th>\n",
       "      <th>race/ethnicity</th>\n",
       "      <th>parental level of education</th>\n",
       "      <th>lunch</th>\n",
       "      <th>test preparation course</th>\n",
       "      <th>math score</th>\n",
       "      <th>reading score</th>\n",
       "      <th>writing score</th>\n",
       "    </tr>\n",
       "  </thead>\n",
       "  <tbody>\n",
       "    <tr>\n",
       "      <th>0</th>\n",
       "      <td>female</td>\n",
       "      <td>group B</td>\n",
       "      <td>bachelor's degree</td>\n",
       "      <td>standard</td>\n",
       "      <td>none</td>\n",
       "      <td>72</td>\n",
       "      <td>72</td>\n",
       "      <td>74</td>\n",
       "    </tr>\n",
       "    <tr>\n",
       "      <th>1</th>\n",
       "      <td>female</td>\n",
       "      <td>group C</td>\n",
       "      <td>some college</td>\n",
       "      <td>standard</td>\n",
       "      <td>completed</td>\n",
       "      <td>69</td>\n",
       "      <td>90</td>\n",
       "      <td>88</td>\n",
       "    </tr>\n",
       "    <tr>\n",
       "      <th>2</th>\n",
       "      <td>female</td>\n",
       "      <td>group B</td>\n",
       "      <td>master's degree</td>\n",
       "      <td>standard</td>\n",
       "      <td>none</td>\n",
       "      <td>90</td>\n",
       "      <td>95</td>\n",
       "      <td>93</td>\n",
       "    </tr>\n",
       "    <tr>\n",
       "      <th>3</th>\n",
       "      <td>male</td>\n",
       "      <td>group A</td>\n",
       "      <td>associate's degree</td>\n",
       "      <td>free/reduced</td>\n",
       "      <td>none</td>\n",
       "      <td>47</td>\n",
       "      <td>57</td>\n",
       "      <td>44</td>\n",
       "    </tr>\n",
       "    <tr>\n",
       "      <th>4</th>\n",
       "      <td>male</td>\n",
       "      <td>group C</td>\n",
       "      <td>some college</td>\n",
       "      <td>standard</td>\n",
       "      <td>none</td>\n",
       "      <td>76</td>\n",
       "      <td>78</td>\n",
       "      <td>75</td>\n",
       "    </tr>\n",
       "  </tbody>\n",
       "</table>\n",
       "</div>"
      ]
     },
     "execution_count": 3,
     "metadata": {},
     "output_type": "execute_result"
    }
   ],
   "execution_count": 3
  },
  {
   "metadata": {},
   "cell_type": "markdown",
   "source": "# Selecting one column",
   "id": "f3096424fc56b62f"
  },
  {
   "metadata": {
    "ExecuteTime": {
     "end_time": "2025-07-07T18:39:31.658197Z",
     "start_time": "2025-07-07T18:39:31.647099Z"
    }
   },
   "cell_type": "code",
   "source": [
    "# selecting a column with . (This only works for columns with a one-word column name)\n",
    "df_exams.head(10).gender"
   ],
   "id": "6c6c966980d7f2c4",
   "outputs": [
    {
     "data": {
      "text/plain": [
       "0    female\n",
       "1    female\n",
       "2    female\n",
       "3      male\n",
       "4      male\n",
       "5    female\n",
       "6    female\n",
       "7      male\n",
       "8      male\n",
       "9    female\n",
       "Name: gender, dtype: object"
      ]
     },
     "execution_count": 4,
     "metadata": {},
     "output_type": "execute_result"
    }
   ],
   "execution_count": 4
  },
  {
   "metadata": {
    "ExecuteTime": {
     "end_time": "2025-07-07T18:39:31.706950Z",
     "start_time": "2025-07-07T18:39:31.697007Z"
    }
   },
   "cell_type": "code",
   "source": "df_exams.head(10).lunch",
   "id": "9bf05b218a24b135",
   "outputs": [
    {
     "data": {
      "text/plain": [
       "0        standard\n",
       "1        standard\n",
       "2        standard\n",
       "3    free/reduced\n",
       "4        standard\n",
       "5        standard\n",
       "6        standard\n",
       "7    free/reduced\n",
       "8    free/reduced\n",
       "9    free/reduced\n",
       "Name: lunch, dtype: object"
      ]
     },
     "execution_count": 5,
     "metadata": {},
     "output_type": "execute_result"
    }
   ],
   "execution_count": 5
  },
  {
   "metadata": {
    "ExecuteTime": {
     "end_time": "2025-07-07T18:39:31.747114Z",
     "start_time": "2025-07-07T18:39:31.735260Z"
    }
   },
   "cell_type": "code",
   "source": [
    "# selecting a column with [] (This is the preferred way to select a column)\n",
    "df_exams[\"race/ethnicity\"].head(10)"
   ],
   "id": "2ad3d264a20b5c73",
   "outputs": [
    {
     "data": {
      "text/plain": [
       "0    group B\n",
       "1    group C\n",
       "2    group B\n",
       "3    group A\n",
       "4    group C\n",
       "5    group B\n",
       "6    group B\n",
       "7    group B\n",
       "8    group D\n",
       "9    group B\n",
       "Name: race/ethnicity, dtype: object"
      ]
     },
     "execution_count": 6,
     "metadata": {},
     "output_type": "execute_result"
    }
   ],
   "execution_count": 6
  },
  {
   "metadata": {
    "ExecuteTime": {
     "end_time": "2025-07-07T18:42:19.677941Z",
     "start_time": "2025-07-07T18:42:19.658329Z"
    }
   },
   "cell_type": "code",
   "source": [
    "# check out the type\n",
    "type(df_exams[\"race/ethnicity\"])"
   ],
   "id": "c7d538817459612",
   "outputs": [
    {
     "data": {
      "text/plain": [
       "pandas.core.series.Series"
      ]
     },
     "execution_count": 8,
     "metadata": {},
     "output_type": "execute_result"
    }
   ],
   "execution_count": 8
  },
  {
   "metadata": {
    "ExecuteTime": {
     "end_time": "2025-07-07T18:39:31.781698Z",
     "start_time": "2025-07-07T18:39:31.753407Z"
    }
   },
   "cell_type": "code",
   "source": "df_exams[\"parental level of education\"].head(10)",
   "id": "9335b7ba08d5a4f8",
   "outputs": [
    {
     "data": {
      "text/plain": [
       "0     bachelor's degree\n",
       "1          some college\n",
       "2       master's degree\n",
       "3    associate's degree\n",
       "4          some college\n",
       "5    associate's degree\n",
       "6          some college\n",
       "7          some college\n",
       "8           high school\n",
       "9           high school\n",
       "Name: parental level of education, dtype: object"
      ]
     },
     "execution_count": 7,
     "metadata": {},
     "output_type": "execute_result"
    }
   ],
   "execution_count": 7
  },
  {
   "metadata": {
    "ExecuteTime": {
     "end_time": "2025-07-07T18:39:31.820966Z",
     "start_time": "2025-07-07T18:39:31.815984Z"
    }
   },
   "cell_type": "code",
   "source": "",
   "id": "52671acbabee10d4",
   "outputs": [],
   "execution_count": null
  }
 ],
 "metadata": {
  "kernelspec": {
   "display_name": "Python 3",
   "language": "python",
   "name": "python3"
  },
  "language_info": {
   "codemirror_mode": {
    "name": "ipython",
    "version": 2
   },
   "file_extension": ".py",
   "mimetype": "text/x-python",
   "name": "python",
   "nbconvert_exporter": "python",
   "pygments_lexer": "ipython2",
   "version": "2.7.6"
  }
 },
 "nbformat": 4,
 "nbformat_minor": 5
}
