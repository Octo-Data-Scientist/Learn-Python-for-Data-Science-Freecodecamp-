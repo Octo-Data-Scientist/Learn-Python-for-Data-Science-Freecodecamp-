{
 "cells": [
  {
   "cell_type": "code",
   "id": "initial_id",
   "metadata": {
    "collapsed": true,
    "ExecuteTime": {
     "end_time": "2025-07-10T21:09:02.240409Z",
     "start_time": "2025-07-10T21:09:01.226806Z"
    }
   },
   "source": [
    "# import pandas\n",
    "import pandas as pd"
   ],
   "outputs": [],
   "execution_count": 1
  },
  {
   "metadata": {
    "ExecuteTime": {
     "end_time": "2025-07-10T21:09:02.259351Z",
     "start_time": "2025-07-10T21:09:02.247436Z"
    }
   },
   "cell_type": "code",
   "source": [
    "# reading the csv files\n",
    "# pd.set_option(\"display.max_rows\", 550)"
   ],
   "id": "67b20a89b54ac5e7",
   "outputs": [],
   "execution_count": 2
  },
  {
   "metadata": {},
   "cell_type": "markdown",
   "source": "# Create a DataFrame",
   "id": "7bd50c3f357dd3c6"
  },
  {
   "metadata": {
    "ExecuteTime": {
     "end_time": "2025-07-10T21:09:02.292442Z",
     "start_time": "2025-07-10T21:09:02.263382Z"
    }
   },
   "cell_type": "code",
   "source": [
    "# read the \"bestsellers with categories\" csv file (Dataset on Amazon's Top 50 bestselling books from 2009 to 2019.)\n",
    "# reading the csv files\n",
    "df = pd.read_csv(\"bestsellers with categories.csv\")"
   ],
   "id": "935a74acba26bebc",
   "outputs": [],
   "execution_count": 3
  },
  {
   "metadata": {
    "ExecuteTime": {
     "end_time": "2025-07-10T21:09:02.313372Z",
     "start_time": "2025-07-10T21:09:02.292442Z"
    }
   },
   "cell_type": "code",
   "source": [
    "# get access to the shape attribute\n",
    "df.shape"
   ],
   "id": "61ade1f8121d793d",
   "outputs": [
    {
     "data": {
      "text/plain": [
       "(550, 7)"
      ]
     },
     "execution_count": 4,
     "metadata": {},
     "output_type": "execute_result"
    }
   ],
   "execution_count": 4
  },
  {
   "metadata": {
    "ExecuteTime": {
     "end_time": "2025-07-10T21:09:02.363004Z",
     "start_time": "2025-07-10T21:09:02.355087Z"
    }
   },
   "cell_type": "code",
   "source": [
    "# find the data types of each column\n",
    "df.dtypes"
   ],
   "id": "d9b6d4ae47d2c7ad",
   "outputs": [
    {
     "data": {
      "text/plain": [
       "Name            object\n",
       "Author          object\n",
       "User Rating    float64\n",
       "Reviews          int64\n",
       "Price            int64\n",
       "Year             int64\n",
       "Genre           object\n",
       "dtype: object"
      ]
     },
     "execution_count": 5,
     "metadata": {},
     "output_type": "execute_result"
    }
   ],
   "execution_count": 5
  },
  {
   "metadata": {},
   "cell_type": "markdown",
   "source": "# Display a DataFrame",
   "id": "1edacd576873ccf0"
  },
  {
   "metadata": {
    "ExecuteTime": {
     "end_time": "2025-07-10T21:09:02.409368Z",
     "start_time": "2025-07-10T21:09:02.386656Z"
    }
   },
   "cell_type": "code",
   "source": [
    "# show first 5 rows in a dataframe\n",
    "df.head()"
   ],
   "id": "a1302e0ee741076b",
   "outputs": [
    {
     "data": {
      "text/plain": [
       "                                                Name  \\\n",
       "0                      10-Day Green Smoothie Cleanse   \n",
       "1                                  11/22/63: A Novel   \n",
       "2            12 Rules for Life: An Antidote to Chaos   \n",
       "3                             1984 (Signet Classics)   \n",
       "4  5,000 Awesome Facts (About Everything!) (Natio...   \n",
       "\n",
       "                     Author  User Rating  Reviews  Price  Year        Genre  \n",
       "0                  JJ Smith          4.7    17350      8  2016  Non Fiction  \n",
       "1              Stephen King          4.6     2052     22  2011      Fiction  \n",
       "2        Jordan B. Peterson          4.7    18979     15  2018  Non Fiction  \n",
       "3             George Orwell          4.7    21424      6  2017      Fiction  \n",
       "4  National Geographic Kids          4.8     7665     12  2019  Non Fiction  "
      ],
      "text/html": [
       "<div>\n",
       "<style scoped>\n",
       "    .dataframe tbody tr th:only-of-type {\n",
       "        vertical-align: middle;\n",
       "    }\n",
       "\n",
       "    .dataframe tbody tr th {\n",
       "        vertical-align: top;\n",
       "    }\n",
       "\n",
       "    .dataframe thead th {\n",
       "        text-align: right;\n",
       "    }\n",
       "</style>\n",
       "<table border=\"1\" class=\"dataframe\">\n",
       "  <thead>\n",
       "    <tr style=\"text-align: right;\">\n",
       "      <th></th>\n",
       "      <th>Name</th>\n",
       "      <th>Author</th>\n",
       "      <th>User Rating</th>\n",
       "      <th>Reviews</th>\n",
       "      <th>Price</th>\n",
       "      <th>Year</th>\n",
       "      <th>Genre</th>\n",
       "    </tr>\n",
       "  </thead>\n",
       "  <tbody>\n",
       "    <tr>\n",
       "      <th>0</th>\n",
       "      <td>10-Day Green Smoothie Cleanse</td>\n",
       "      <td>JJ Smith</td>\n",
       "      <td>4.7</td>\n",
       "      <td>17350</td>\n",
       "      <td>8</td>\n",
       "      <td>2016</td>\n",
       "      <td>Non Fiction</td>\n",
       "    </tr>\n",
       "    <tr>\n",
       "      <th>1</th>\n",
       "      <td>11/22/63: A Novel</td>\n",
       "      <td>Stephen King</td>\n",
       "      <td>4.6</td>\n",
       "      <td>2052</td>\n",
       "      <td>22</td>\n",
       "      <td>2011</td>\n",
       "      <td>Fiction</td>\n",
       "    </tr>\n",
       "    <tr>\n",
       "      <th>2</th>\n",
       "      <td>12 Rules for Life: An Antidote to Chaos</td>\n",
       "      <td>Jordan B. Peterson</td>\n",
       "      <td>4.7</td>\n",
       "      <td>18979</td>\n",
       "      <td>15</td>\n",
       "      <td>2018</td>\n",
       "      <td>Non Fiction</td>\n",
       "    </tr>\n",
       "    <tr>\n",
       "      <th>3</th>\n",
       "      <td>1984 (Signet Classics)</td>\n",
       "      <td>George Orwell</td>\n",
       "      <td>4.7</td>\n",
       "      <td>21424</td>\n",
       "      <td>6</td>\n",
       "      <td>2017</td>\n",
       "      <td>Fiction</td>\n",
       "    </tr>\n",
       "    <tr>\n",
       "      <th>4</th>\n",
       "      <td>5,000 Awesome Facts (About Everything!) (Natio...</td>\n",
       "      <td>National Geographic Kids</td>\n",
       "      <td>4.8</td>\n",
       "      <td>7665</td>\n",
       "      <td>12</td>\n",
       "      <td>2019</td>\n",
       "      <td>Non Fiction</td>\n",
       "    </tr>\n",
       "  </tbody>\n",
       "</table>\n",
       "</div>"
      ]
     },
     "execution_count": 6,
     "metadata": {},
     "output_type": "execute_result"
    }
   ],
   "execution_count": 6
  },
  {
   "metadata": {
    "ExecuteTime": {
     "end_time": "2025-07-10T21:09:02.457216Z",
     "start_time": "2025-07-10T21:09:02.418412Z"
    }
   },
   "cell_type": "code",
   "source": [
    "# describe basic statistics of the dataframe (mean, std, min, max)\n",
    "df.describe().round(0)"
   ],
   "id": "12467139555c8d54",
   "outputs": [
    {
     "data": {
      "text/plain": [
       "       User Rating  Reviews  Price    Year\n",
       "count        550.0    550.0  550.0   550.0\n",
       "mean           5.0  11953.0   13.0  2014.0\n",
       "std            0.0  11731.0   11.0     3.0\n",
       "min            3.0     37.0    0.0  2009.0\n",
       "25%            4.0   4058.0    7.0  2011.0\n",
       "50%            5.0   8580.0   11.0  2014.0\n",
       "75%            5.0  17253.0   16.0  2017.0\n",
       "max            5.0  87841.0  105.0  2019.0"
      ],
      "text/html": [
       "<div>\n",
       "<style scoped>\n",
       "    .dataframe tbody tr th:only-of-type {\n",
       "        vertical-align: middle;\n",
       "    }\n",
       "\n",
       "    .dataframe tbody tr th {\n",
       "        vertical-align: top;\n",
       "    }\n",
       "\n",
       "    .dataframe thead th {\n",
       "        text-align: right;\n",
       "    }\n",
       "</style>\n",
       "<table border=\"1\" class=\"dataframe\">\n",
       "  <thead>\n",
       "    <tr style=\"text-align: right;\">\n",
       "      <th></th>\n",
       "      <th>User Rating</th>\n",
       "      <th>Reviews</th>\n",
       "      <th>Price</th>\n",
       "      <th>Year</th>\n",
       "    </tr>\n",
       "  </thead>\n",
       "  <tbody>\n",
       "    <tr>\n",
       "      <th>count</th>\n",
       "      <td>550.0</td>\n",
       "      <td>550.0</td>\n",
       "      <td>550.0</td>\n",
       "      <td>550.0</td>\n",
       "    </tr>\n",
       "    <tr>\n",
       "      <th>mean</th>\n",
       "      <td>5.0</td>\n",
       "      <td>11953.0</td>\n",
       "      <td>13.0</td>\n",
       "      <td>2014.0</td>\n",
       "    </tr>\n",
       "    <tr>\n",
       "      <th>std</th>\n",
       "      <td>0.0</td>\n",
       "      <td>11731.0</td>\n",
       "      <td>11.0</td>\n",
       "      <td>3.0</td>\n",
       "    </tr>\n",
       "    <tr>\n",
       "      <th>min</th>\n",
       "      <td>3.0</td>\n",
       "      <td>37.0</td>\n",
       "      <td>0.0</td>\n",
       "      <td>2009.0</td>\n",
       "    </tr>\n",
       "    <tr>\n",
       "      <th>25%</th>\n",
       "      <td>4.0</td>\n",
       "      <td>4058.0</td>\n",
       "      <td>7.0</td>\n",
       "      <td>2011.0</td>\n",
       "    </tr>\n",
       "    <tr>\n",
       "      <th>50%</th>\n",
       "      <td>5.0</td>\n",
       "      <td>8580.0</td>\n",
       "      <td>11.0</td>\n",
       "      <td>2014.0</td>\n",
       "    </tr>\n",
       "    <tr>\n",
       "      <th>75%</th>\n",
       "      <td>5.0</td>\n",
       "      <td>17253.0</td>\n",
       "      <td>16.0</td>\n",
       "      <td>2017.0</td>\n",
       "    </tr>\n",
       "    <tr>\n",
       "      <th>max</th>\n",
       "      <td>5.0</td>\n",
       "      <td>87841.0</td>\n",
       "      <td>105.0</td>\n",
       "      <td>2019.0</td>\n",
       "    </tr>\n",
       "  </tbody>\n",
       "</table>\n",
       "</div>"
      ]
     },
     "execution_count": 7,
     "metadata": {},
     "output_type": "execute_result"
    }
   ],
   "execution_count": 7
  },
  {
   "metadata": {},
   "cell_type": "markdown",
   "source": "# Add a New Column with an Array",
   "id": "d8d38810d1d2e3a2"
  },
  {
   "metadata": {
    "ExecuteTime": {
     "end_time": "2025-07-10T21:09:02.496297Z",
     "start_time": "2025-07-10T21:09:02.488124Z"
    }
   },
   "cell_type": "code",
   "source": [
    "# Your task is to create a column named 'Critic Rating' that should have random integer numbers between 1 and 4\n",
    "\n",
    "# 1. import numpy and create 550 random integer numbers between 1 and 4\n",
    "import numpy as np\n",
    "critical_rating = np.random.randint(1, 4, size = 550)\n",
    "\n",
    "# 2. add new 'Critic Rating' column to dataframe using the random numbers created\n",
    "df[\"Critical Rating\"] = critical_rating\n",
    "\n",
    "# df.insert(1, \"Critical Rating\", critical_rating)\n",
    "\n",
    "# Note the random numbers in this new 'Critic Rating' column will be different between your solution and mine, but we'll focus only on the code, in this section."
   ],
   "id": "7dec748cbce07f04",
   "outputs": [],
   "execution_count": 8
  },
  {
   "metadata": {
    "ExecuteTime": {
     "end_time": "2025-07-10T21:09:02.527507Z",
     "start_time": "2025-07-10T21:09:02.513698Z"
    }
   },
   "cell_type": "code",
   "source": [
    "# show first 5 rows\n",
    "df.head()"
   ],
   "id": "ee4980737723d11f",
   "outputs": [
    {
     "data": {
      "text/plain": [
       "                                                Name  \\\n",
       "0                      10-Day Green Smoothie Cleanse   \n",
       "1                                  11/22/63: A Novel   \n",
       "2            12 Rules for Life: An Antidote to Chaos   \n",
       "3                             1984 (Signet Classics)   \n",
       "4  5,000 Awesome Facts (About Everything!) (Natio...   \n",
       "\n",
       "                     Author  User Rating  Reviews  Price  Year        Genre  \\\n",
       "0                  JJ Smith          4.7    17350      8  2016  Non Fiction   \n",
       "1              Stephen King          4.6     2052     22  2011      Fiction   \n",
       "2        Jordan B. Peterson          4.7    18979     15  2018  Non Fiction   \n",
       "3             George Orwell          4.7    21424      6  2017      Fiction   \n",
       "4  National Geographic Kids          4.8     7665     12  2019  Non Fiction   \n",
       "\n",
       "   Critical Rating  \n",
       "0                3  \n",
       "1                2  \n",
       "2                3  \n",
       "3                3  \n",
       "4                2  "
      ],
      "text/html": [
       "<div>\n",
       "<style scoped>\n",
       "    .dataframe tbody tr th:only-of-type {\n",
       "        vertical-align: middle;\n",
       "    }\n",
       "\n",
       "    .dataframe tbody tr th {\n",
       "        vertical-align: top;\n",
       "    }\n",
       "\n",
       "    .dataframe thead th {\n",
       "        text-align: right;\n",
       "    }\n",
       "</style>\n",
       "<table border=\"1\" class=\"dataframe\">\n",
       "  <thead>\n",
       "    <tr style=\"text-align: right;\">\n",
       "      <th></th>\n",
       "      <th>Name</th>\n",
       "      <th>Author</th>\n",
       "      <th>User Rating</th>\n",
       "      <th>Reviews</th>\n",
       "      <th>Price</th>\n",
       "      <th>Year</th>\n",
       "      <th>Genre</th>\n",
       "      <th>Critical Rating</th>\n",
       "    </tr>\n",
       "  </thead>\n",
       "  <tbody>\n",
       "    <tr>\n",
       "      <th>0</th>\n",
       "      <td>10-Day Green Smoothie Cleanse</td>\n",
       "      <td>JJ Smith</td>\n",
       "      <td>4.7</td>\n",
       "      <td>17350</td>\n",
       "      <td>8</td>\n",
       "      <td>2016</td>\n",
       "      <td>Non Fiction</td>\n",
       "      <td>3</td>\n",
       "    </tr>\n",
       "    <tr>\n",
       "      <th>1</th>\n",
       "      <td>11/22/63: A Novel</td>\n",
       "      <td>Stephen King</td>\n",
       "      <td>4.6</td>\n",
       "      <td>2052</td>\n",
       "      <td>22</td>\n",
       "      <td>2011</td>\n",
       "      <td>Fiction</td>\n",
       "      <td>2</td>\n",
       "    </tr>\n",
       "    <tr>\n",
       "      <th>2</th>\n",
       "      <td>12 Rules for Life: An Antidote to Chaos</td>\n",
       "      <td>Jordan B. Peterson</td>\n",
       "      <td>4.7</td>\n",
       "      <td>18979</td>\n",
       "      <td>15</td>\n",
       "      <td>2018</td>\n",
       "      <td>Non Fiction</td>\n",
       "      <td>3</td>\n",
       "    </tr>\n",
       "    <tr>\n",
       "      <th>3</th>\n",
       "      <td>1984 (Signet Classics)</td>\n",
       "      <td>George Orwell</td>\n",
       "      <td>4.7</td>\n",
       "      <td>21424</td>\n",
       "      <td>6</td>\n",
       "      <td>2017</td>\n",
       "      <td>Fiction</td>\n",
       "      <td>3</td>\n",
       "    </tr>\n",
       "    <tr>\n",
       "      <th>4</th>\n",
       "      <td>5,000 Awesome Facts (About Everything!) (Natio...</td>\n",
       "      <td>National Geographic Kids</td>\n",
       "      <td>4.8</td>\n",
       "      <td>7665</td>\n",
       "      <td>12</td>\n",
       "      <td>2019</td>\n",
       "      <td>Non Fiction</td>\n",
       "      <td>2</td>\n",
       "    </tr>\n",
       "  </tbody>\n",
       "</table>\n",
       "</div>"
      ]
     },
     "execution_count": 9,
     "metadata": {},
     "output_type": "execute_result"
    }
   ],
   "execution_count": 9
  },
  {
   "metadata": {},
   "cell_type": "markdown",
   "source": "# Basic Attributes, Methods & Functions",
   "id": "b74726b1aad29ae8"
  },
  {
   "metadata": {
    "ExecuteTime": {
     "end_time": "2025-07-10T21:09:02.556287Z",
     "start_time": "2025-07-10T21:09:02.547392Z"
    }
   },
   "cell_type": "code",
   "source": [
    "# get access to the columns attribute\n",
    "df.columns"
   ],
   "id": "b05c8602e9a14d47",
   "outputs": [
    {
     "data": {
      "text/plain": [
       "Index(['Name', 'Author', 'User Rating', 'Reviews', 'Price', 'Year', 'Genre',\n",
       "       'Critical Rating'],\n",
       "      dtype='object')"
      ]
     },
     "execution_count": 10,
     "metadata": {},
     "output_type": "execute_result"
    }
   ],
   "execution_count": 10
  },
  {
   "metadata": {},
   "cell_type": "markdown",
   "source": "# Selecting Two or More Columns from a DataFrame",
   "id": "2c051ca5d7da7ad"
  },
  {
   "metadata": {
    "ExecuteTime": {
     "end_time": "2025-07-10T21:09:02.581115Z",
     "start_time": "2025-07-10T21:09:02.572968Z"
    }
   },
   "cell_type": "code",
   "source": [
    "# move the new 'Critic Rating' column between the columns \"User Rating\" and \"Reviews\" Then update the dataframe\n",
    "\n",
    "# Tip: Copy and paste the column names obtained with the columns attribute and then rearrange elements using [[]]\n",
    "df = df[[\"Name\", \"Author\", \"User Rating\", \"Critical Rating\", \"Reviews\", \"Price\", \"Year\", \"Genre\"]]"
   ],
   "id": "c85f06b704b0a7eb",
   "outputs": [],
   "execution_count": 11
  },
  {
   "metadata": {
    "ExecuteTime": {
     "end_time": "2025-07-10T21:09:02.622693Z",
     "start_time": "2025-07-10T21:09:02.597487Z"
    }
   },
   "cell_type": "code",
   "source": [
    "# show first 5 rows\n",
    "df.head()"
   ],
   "id": "b9baee0073aa11f0",
   "outputs": [
    {
     "data": {
      "text/plain": [
       "                                                Name  \\\n",
       "0                      10-Day Green Smoothie Cleanse   \n",
       "1                                  11/22/63: A Novel   \n",
       "2            12 Rules for Life: An Antidote to Chaos   \n",
       "3                             1984 (Signet Classics)   \n",
       "4  5,000 Awesome Facts (About Everything!) (Natio...   \n",
       "\n",
       "                     Author  User Rating  Critical Rating  Reviews  Price  \\\n",
       "0                  JJ Smith          4.7                3    17350      8   \n",
       "1              Stephen King          4.6                2     2052     22   \n",
       "2        Jordan B. Peterson          4.7                3    18979     15   \n",
       "3             George Orwell          4.7                3    21424      6   \n",
       "4  National Geographic Kids          4.8                2     7665     12   \n",
       "\n",
       "   Year        Genre  \n",
       "0  2016  Non Fiction  \n",
       "1  2011      Fiction  \n",
       "2  2018  Non Fiction  \n",
       "3  2017      Fiction  \n",
       "4  2019  Non Fiction  "
      ],
      "text/html": [
       "<div>\n",
       "<style scoped>\n",
       "    .dataframe tbody tr th:only-of-type {\n",
       "        vertical-align: middle;\n",
       "    }\n",
       "\n",
       "    .dataframe tbody tr th {\n",
       "        vertical-align: top;\n",
       "    }\n",
       "\n",
       "    .dataframe thead th {\n",
       "        text-align: right;\n",
       "    }\n",
       "</style>\n",
       "<table border=\"1\" class=\"dataframe\">\n",
       "  <thead>\n",
       "    <tr style=\"text-align: right;\">\n",
       "      <th></th>\n",
       "      <th>Name</th>\n",
       "      <th>Author</th>\n",
       "      <th>User Rating</th>\n",
       "      <th>Critical Rating</th>\n",
       "      <th>Reviews</th>\n",
       "      <th>Price</th>\n",
       "      <th>Year</th>\n",
       "      <th>Genre</th>\n",
       "    </tr>\n",
       "  </thead>\n",
       "  <tbody>\n",
       "    <tr>\n",
       "      <th>0</th>\n",
       "      <td>10-Day Green Smoothie Cleanse</td>\n",
       "      <td>JJ Smith</td>\n",
       "      <td>4.7</td>\n",
       "      <td>3</td>\n",
       "      <td>17350</td>\n",
       "      <td>8</td>\n",
       "      <td>2016</td>\n",
       "      <td>Non Fiction</td>\n",
       "    </tr>\n",
       "    <tr>\n",
       "      <th>1</th>\n",
       "      <td>11/22/63: A Novel</td>\n",
       "      <td>Stephen King</td>\n",
       "      <td>4.6</td>\n",
       "      <td>2</td>\n",
       "      <td>2052</td>\n",
       "      <td>22</td>\n",
       "      <td>2011</td>\n",
       "      <td>Fiction</td>\n",
       "    </tr>\n",
       "    <tr>\n",
       "      <th>2</th>\n",
       "      <td>12 Rules for Life: An Antidote to Chaos</td>\n",
       "      <td>Jordan B. Peterson</td>\n",
       "      <td>4.7</td>\n",
       "      <td>3</td>\n",
       "      <td>18979</td>\n",
       "      <td>15</td>\n",
       "      <td>2018</td>\n",
       "      <td>Non Fiction</td>\n",
       "    </tr>\n",
       "    <tr>\n",
       "      <th>3</th>\n",
       "      <td>1984 (Signet Classics)</td>\n",
       "      <td>George Orwell</td>\n",
       "      <td>4.7</td>\n",
       "      <td>3</td>\n",
       "      <td>21424</td>\n",
       "      <td>6</td>\n",
       "      <td>2017</td>\n",
       "      <td>Fiction</td>\n",
       "    </tr>\n",
       "    <tr>\n",
       "      <th>4</th>\n",
       "      <td>5,000 Awesome Facts (About Everything!) (Natio...</td>\n",
       "      <td>National Geographic Kids</td>\n",
       "      <td>4.8</td>\n",
       "      <td>2</td>\n",
       "      <td>7665</td>\n",
       "      <td>12</td>\n",
       "      <td>2019</td>\n",
       "      <td>Non Fiction</td>\n",
       "    </tr>\n",
       "  </tbody>\n",
       "</table>\n",
       "</div>"
      ]
     },
     "execution_count": 12,
     "metadata": {},
     "output_type": "execute_result"
    }
   ],
   "execution_count": 12
  },
  {
   "metadata": {},
   "cell_type": "markdown",
   "source": "# Operations on DataFrame",
   "id": "8ab40c53d2875c78"
  },
  {
   "metadata": {
    "ExecuteTime": {
     "end_time": "2025-07-10T21:09:02.639219Z",
     "start_time": "2025-07-10T21:09:02.629797Z"
    }
   },
   "cell_type": "code",
   "source": [
    "# create a column named \"Average Rating\" by using the following formula: Average Rating = (User Rating + Critic Rating)/2\n",
    "df[\"Average Rating\"] = (df[\"User Rating\"] + df[\"Critical Rating\"])/2"
   ],
   "id": "46e1a25b00b004fa",
   "outputs": [],
   "execution_count": 13
  },
  {
   "metadata": {
    "ExecuteTime": {
     "end_time": "2025-07-10T21:09:02.658976Z",
     "start_time": "2025-07-10T21:09:02.653092Z"
    }
   },
   "cell_type": "code",
   "source": [
    "# use the round function to round the values of the dataframe to 1 decimal and update the dataframe\n",
    "df = round(df, 1)"
   ],
   "id": "ed322902130f1c3c",
   "outputs": [],
   "execution_count": 14
  },
  {
   "metadata": {},
   "cell_type": "markdown",
   "source": "# Value Counts",
   "id": "accf0335a17df92b"
  },
  {
   "metadata": {
    "ExecuteTime": {
     "end_time": "2025-07-10T21:09:02.681340Z",
     "start_time": "2025-07-10T21:09:02.672353Z"
    }
   },
   "cell_type": "code",
   "source": [
    "# count elements in \"Genre\" column by category and return the relative frequency\n",
    "df[\"Genre\"].value_counts(normalize = True)"
   ],
   "id": "a27e83f251658c18",
   "outputs": [
    {
     "data": {
      "text/plain": [
       "Genre\n",
       "Non Fiction    0.563636\n",
       "Fiction        0.436364\n",
       "Name: proportion, dtype: float64"
      ]
     },
     "execution_count": 15,
     "metadata": {},
     "output_type": "execute_result"
    }
   ],
   "execution_count": 15
  },
  {
   "metadata": {},
   "cell_type": "markdown",
   "source": "# Rename Columns",
   "id": "b9508af1915752b9"
  },
  {
   "metadata": {
    "ExecuteTime": {
     "end_time": "2025-07-10T21:09:02.713865Z",
     "start_time": "2025-07-10T21:09:02.707977Z"
    }
   },
   "cell_type": "code",
   "source": [
    "# rename columns \"User Rating,\" \"Critic Rating\" and \"Average Rating\" to \"UR,\" \"CR\" and \"AR\" then update the dataframe with the inplace paraneter\n",
    "df.rename(columns = {\"User Rating\":\"UR\", \"Critical Rating\":\"CR\", \"Average Rating\":\"AR\"}, inplace = True)"
   ],
   "id": "71f19891f0b29472",
   "outputs": [],
   "execution_count": 16
  },
  {
   "metadata": {
    "ExecuteTime": {
     "end_time": "2025-07-10T21:09:02.757313Z",
     "start_time": "2025-07-10T21:09:02.739447Z"
    }
   },
   "cell_type": "code",
   "source": [
    "# show first 5 rows\n",
    "df.head()"
   ],
   "id": "cc16619c5402c816",
   "outputs": [
    {
     "data": {
      "text/plain": [
       "                                                Name  \\\n",
       "0                      10-Day Green Smoothie Cleanse   \n",
       "1                                  11/22/63: A Novel   \n",
       "2            12 Rules for Life: An Antidote to Chaos   \n",
       "3                             1984 (Signet Classics)   \n",
       "4  5,000 Awesome Facts (About Everything!) (Natio...   \n",
       "\n",
       "                     Author   UR  CR  Reviews  Price  Year        Genre   AR  \n",
       "0                  JJ Smith  4.7   3    17350      8  2016  Non Fiction  3.8  \n",
       "1              Stephen King  4.6   2     2052     22  2011      Fiction  3.3  \n",
       "2        Jordan B. Peterson  4.7   3    18979     15  2018  Non Fiction  3.8  \n",
       "3             George Orwell  4.7   3    21424      6  2017      Fiction  3.8  \n",
       "4  National Geographic Kids  4.8   2     7665     12  2019  Non Fiction  3.4  "
      ],
      "text/html": [
       "<div>\n",
       "<style scoped>\n",
       "    .dataframe tbody tr th:only-of-type {\n",
       "        vertical-align: middle;\n",
       "    }\n",
       "\n",
       "    .dataframe tbody tr th {\n",
       "        vertical-align: top;\n",
       "    }\n",
       "\n",
       "    .dataframe thead th {\n",
       "        text-align: right;\n",
       "    }\n",
       "</style>\n",
       "<table border=\"1\" class=\"dataframe\">\n",
       "  <thead>\n",
       "    <tr style=\"text-align: right;\">\n",
       "      <th></th>\n",
       "      <th>Name</th>\n",
       "      <th>Author</th>\n",
       "      <th>UR</th>\n",
       "      <th>CR</th>\n",
       "      <th>Reviews</th>\n",
       "      <th>Price</th>\n",
       "      <th>Year</th>\n",
       "      <th>Genre</th>\n",
       "      <th>AR</th>\n",
       "    </tr>\n",
       "  </thead>\n",
       "  <tbody>\n",
       "    <tr>\n",
       "      <th>0</th>\n",
       "      <td>10-Day Green Smoothie Cleanse</td>\n",
       "      <td>JJ Smith</td>\n",
       "      <td>4.7</td>\n",
       "      <td>3</td>\n",
       "      <td>17350</td>\n",
       "      <td>8</td>\n",
       "      <td>2016</td>\n",
       "      <td>Non Fiction</td>\n",
       "      <td>3.8</td>\n",
       "    </tr>\n",
       "    <tr>\n",
       "      <th>1</th>\n",
       "      <td>11/22/63: A Novel</td>\n",
       "      <td>Stephen King</td>\n",
       "      <td>4.6</td>\n",
       "      <td>2</td>\n",
       "      <td>2052</td>\n",
       "      <td>22</td>\n",
       "      <td>2011</td>\n",
       "      <td>Fiction</td>\n",
       "      <td>3.3</td>\n",
       "    </tr>\n",
       "    <tr>\n",
       "      <th>2</th>\n",
       "      <td>12 Rules for Life: An Antidote to Chaos</td>\n",
       "      <td>Jordan B. Peterson</td>\n",
       "      <td>4.7</td>\n",
       "      <td>3</td>\n",
       "      <td>18979</td>\n",
       "      <td>15</td>\n",
       "      <td>2018</td>\n",
       "      <td>Non Fiction</td>\n",
       "      <td>3.8</td>\n",
       "    </tr>\n",
       "    <tr>\n",
       "      <th>3</th>\n",
       "      <td>1984 (Signet Classics)</td>\n",
       "      <td>George Orwell</td>\n",
       "      <td>4.7</td>\n",
       "      <td>3</td>\n",
       "      <td>21424</td>\n",
       "      <td>6</td>\n",
       "      <td>2017</td>\n",
       "      <td>Fiction</td>\n",
       "      <td>3.8</td>\n",
       "    </tr>\n",
       "    <tr>\n",
       "      <th>4</th>\n",
       "      <td>5,000 Awesome Facts (About Everything!) (Natio...</td>\n",
       "      <td>National Geographic Kids</td>\n",
       "      <td>4.8</td>\n",
       "      <td>2</td>\n",
       "      <td>7665</td>\n",
       "      <td>12</td>\n",
       "      <td>2019</td>\n",
       "      <td>Non Fiction</td>\n",
       "      <td>3.4</td>\n",
       "    </tr>\n",
       "  </tbody>\n",
       "</table>\n",
       "</div>"
      ]
     },
     "execution_count": 17,
     "metadata": {},
     "output_type": "execute_result"
    }
   ],
   "execution_count": 17
  },
  {
   "metadata": {
    "ExecuteTime": {
     "end_time": "2025-07-10T21:09:02.813859Z",
     "start_time": "2025-07-10T21:09:02.793823Z"
    }
   },
   "cell_type": "code",
   "source": [
    "# select only \"Name\", \"Author\", \"UR\", \"CR\", \"AR\" and \"Year\" columns and update dataframe\n",
    "df = df[[\"Name\", \"Author\", \"UR\", \"CR\", \"AR\", \"Year\"]]\n",
    "df.head(10)"
   ],
   "id": "77130ca45fca8e6b",
   "outputs": [
    {
     "data": {
      "text/plain": [
       "                                                Name  \\\n",
       "0                      10-Day Green Smoothie Cleanse   \n",
       "1                                  11/22/63: A Novel   \n",
       "2            12 Rules for Life: An Antidote to Chaos   \n",
       "3                             1984 (Signet Classics)   \n",
       "4  5,000 Awesome Facts (About Everything!) (Natio...   \n",
       "5      A Dance with Dragons (A Song of Ice and Fire)   \n",
       "6  A Game of Thrones / A Clash of Kings / A Storm...   \n",
       "7                     A Gentleman in Moscow: A Novel   \n",
       "8      A Higher Loyalty: Truth, Lies, and Leadership   \n",
       "9                          A Man Called Ove: A Novel   \n",
       "\n",
       "                     Author   UR  CR   AR  Year  \n",
       "0                  JJ Smith  4.7   3  3.8  2016  \n",
       "1              Stephen King  4.6   2  3.3  2011  \n",
       "2        Jordan B. Peterson  4.7   3  3.8  2018  \n",
       "3             George Orwell  4.7   3  3.8  2017  \n",
       "4  National Geographic Kids  4.8   2  3.4  2019  \n",
       "5       George R. R. Martin  4.4   1  2.7  2011  \n",
       "6       George R. R. Martin  4.7   1  2.8  2014  \n",
       "7               Amor Towles  4.7   3  3.8  2017  \n",
       "8               James Comey  4.7   3  3.8  2018  \n",
       "9           Fredrik Backman  4.6   1  2.8  2016  "
      ],
      "text/html": [
       "<div>\n",
       "<style scoped>\n",
       "    .dataframe tbody tr th:only-of-type {\n",
       "        vertical-align: middle;\n",
       "    }\n",
       "\n",
       "    .dataframe tbody tr th {\n",
       "        vertical-align: top;\n",
       "    }\n",
       "\n",
       "    .dataframe thead th {\n",
       "        text-align: right;\n",
       "    }\n",
       "</style>\n",
       "<table border=\"1\" class=\"dataframe\">\n",
       "  <thead>\n",
       "    <tr style=\"text-align: right;\">\n",
       "      <th></th>\n",
       "      <th>Name</th>\n",
       "      <th>Author</th>\n",
       "      <th>UR</th>\n",
       "      <th>CR</th>\n",
       "      <th>AR</th>\n",
       "      <th>Year</th>\n",
       "    </tr>\n",
       "  </thead>\n",
       "  <tbody>\n",
       "    <tr>\n",
       "      <th>0</th>\n",
       "      <td>10-Day Green Smoothie Cleanse</td>\n",
       "      <td>JJ Smith</td>\n",
       "      <td>4.7</td>\n",
       "      <td>3</td>\n",
       "      <td>3.8</td>\n",
       "      <td>2016</td>\n",
       "    </tr>\n",
       "    <tr>\n",
       "      <th>1</th>\n",
       "      <td>11/22/63: A Novel</td>\n",
       "      <td>Stephen King</td>\n",
       "      <td>4.6</td>\n",
       "      <td>2</td>\n",
       "      <td>3.3</td>\n",
       "      <td>2011</td>\n",
       "    </tr>\n",
       "    <tr>\n",
       "      <th>2</th>\n",
       "      <td>12 Rules for Life: An Antidote to Chaos</td>\n",
       "      <td>Jordan B. Peterson</td>\n",
       "      <td>4.7</td>\n",
       "      <td>3</td>\n",
       "      <td>3.8</td>\n",
       "      <td>2018</td>\n",
       "    </tr>\n",
       "    <tr>\n",
       "      <th>3</th>\n",
       "      <td>1984 (Signet Classics)</td>\n",
       "      <td>George Orwell</td>\n",
       "      <td>4.7</td>\n",
       "      <td>3</td>\n",
       "      <td>3.8</td>\n",
       "      <td>2017</td>\n",
       "    </tr>\n",
       "    <tr>\n",
       "      <th>4</th>\n",
       "      <td>5,000 Awesome Facts (About Everything!) (Natio...</td>\n",
       "      <td>National Geographic Kids</td>\n",
       "      <td>4.8</td>\n",
       "      <td>2</td>\n",
       "      <td>3.4</td>\n",
       "      <td>2019</td>\n",
       "    </tr>\n",
       "    <tr>\n",
       "      <th>5</th>\n",
       "      <td>A Dance with Dragons (A Song of Ice and Fire)</td>\n",
       "      <td>George R. R. Martin</td>\n",
       "      <td>4.4</td>\n",
       "      <td>1</td>\n",
       "      <td>2.7</td>\n",
       "      <td>2011</td>\n",
       "    </tr>\n",
       "    <tr>\n",
       "      <th>6</th>\n",
       "      <td>A Game of Thrones / A Clash of Kings / A Storm...</td>\n",
       "      <td>George R. R. Martin</td>\n",
       "      <td>4.7</td>\n",
       "      <td>1</td>\n",
       "      <td>2.8</td>\n",
       "      <td>2014</td>\n",
       "    </tr>\n",
       "    <tr>\n",
       "      <th>7</th>\n",
       "      <td>A Gentleman in Moscow: A Novel</td>\n",
       "      <td>Amor Towles</td>\n",
       "      <td>4.7</td>\n",
       "      <td>3</td>\n",
       "      <td>3.8</td>\n",
       "      <td>2017</td>\n",
       "    </tr>\n",
       "    <tr>\n",
       "      <th>8</th>\n",
       "      <td>A Higher Loyalty: Truth, Lies, and Leadership</td>\n",
       "      <td>James Comey</td>\n",
       "      <td>4.7</td>\n",
       "      <td>3</td>\n",
       "      <td>3.8</td>\n",
       "      <td>2018</td>\n",
       "    </tr>\n",
       "    <tr>\n",
       "      <th>9</th>\n",
       "      <td>A Man Called Ove: A Novel</td>\n",
       "      <td>Fredrik Backman</td>\n",
       "      <td>4.6</td>\n",
       "      <td>1</td>\n",
       "      <td>2.8</td>\n",
       "      <td>2016</td>\n",
       "    </tr>\n",
       "  </tbody>\n",
       "</table>\n",
       "</div>"
      ]
     },
     "execution_count": 18,
     "metadata": {},
     "output_type": "execute_result"
    }
   ],
   "execution_count": 18
  },
  {
   "metadata": {},
   "cell_type": "markdown",
   "source": "# Sort a DataFrame",
   "id": "ff87c23cf36786d6"
  },
  {
   "metadata": {
    "ExecuteTime": {
     "end_time": "2025-07-10T21:09:02.880377Z",
     "start_time": "2025-07-10T21:09:02.853991Z"
    }
   },
   "cell_type": "code",
   "source": [
    "# sort the dataframe descending by \"UR\" and \"CR\"\n",
    "df.sort_values(by = [\"UR\", \"CR\"],ascending = False)"
   ],
   "id": "9653a862cbe41fd1",
   "outputs": [
    {
     "data": {
      "text/plain": [
       "                                                  Name                Author  \\\n",
       "85   Dog Man: Fetch-22: From the Creator of Captain...            Dav Pilkey   \n",
       "87   Dog Man: Lord of the Fleas: From the Creator o...            Dav Pilkey   \n",
       "147  Goodnight, Goodnight Construction Site (Hardco...  Sherri Duskey Rinker   \n",
       "156  Harry Potter and the Prisoner of Azkaban: The ...          J.K. Rowling   \n",
       "174                       Humans of New York : Stories       Brandon Stanton   \n",
       "..                                                 ...                   ...   \n",
       "393  The Goldfinch: A Novel (Pulitzer Prize for Fic...           Donna Tartt   \n",
       "107  Fifty Shades of Grey: Book One of the Fifty Sh...             E L James   \n",
       "106  Fifty Shades of Grey: Book One of the Fifty Sh...             E L James   \n",
       "132                         Go Set a Watchman: A Novel            Harper Lee   \n",
       "353                                 The Casual Vacancy          J.K. Rowling   \n",
       "\n",
       "      UR  CR   AR  Year  \n",
       "85   4.9   3  4.0  2019  \n",
       "87   4.9   3  4.0  2018  \n",
       "147  4.9   3  4.0  2013  \n",
       "156  4.9   3  4.0  2017  \n",
       "174  4.9   3  4.0  2015  \n",
       "..   ...  ..  ...   ...  \n",
       "393  3.9   1  2.4  2014  \n",
       "107  3.8   3  3.4  2013  \n",
       "106  3.8   1  2.4  2012  \n",
       "132  3.6   1  2.3  2015  \n",
       "353  3.3   2  2.6  2012  \n",
       "\n",
       "[550 rows x 6 columns]"
      ],
      "text/html": [
       "<div>\n",
       "<style scoped>\n",
       "    .dataframe tbody tr th:only-of-type {\n",
       "        vertical-align: middle;\n",
       "    }\n",
       "\n",
       "    .dataframe tbody tr th {\n",
       "        vertical-align: top;\n",
       "    }\n",
       "\n",
       "    .dataframe thead th {\n",
       "        text-align: right;\n",
       "    }\n",
       "</style>\n",
       "<table border=\"1\" class=\"dataframe\">\n",
       "  <thead>\n",
       "    <tr style=\"text-align: right;\">\n",
       "      <th></th>\n",
       "      <th>Name</th>\n",
       "      <th>Author</th>\n",
       "      <th>UR</th>\n",
       "      <th>CR</th>\n",
       "      <th>AR</th>\n",
       "      <th>Year</th>\n",
       "    </tr>\n",
       "  </thead>\n",
       "  <tbody>\n",
       "    <tr>\n",
       "      <th>85</th>\n",
       "      <td>Dog Man: Fetch-22: From the Creator of Captain...</td>\n",
       "      <td>Dav Pilkey</td>\n",
       "      <td>4.9</td>\n",
       "      <td>3</td>\n",
       "      <td>4.0</td>\n",
       "      <td>2019</td>\n",
       "    </tr>\n",
       "    <tr>\n",
       "      <th>87</th>\n",
       "      <td>Dog Man: Lord of the Fleas: From the Creator o...</td>\n",
       "      <td>Dav Pilkey</td>\n",
       "      <td>4.9</td>\n",
       "      <td>3</td>\n",
       "      <td>4.0</td>\n",
       "      <td>2018</td>\n",
       "    </tr>\n",
       "    <tr>\n",
       "      <th>147</th>\n",
       "      <td>Goodnight, Goodnight Construction Site (Hardco...</td>\n",
       "      <td>Sherri Duskey Rinker</td>\n",
       "      <td>4.9</td>\n",
       "      <td>3</td>\n",
       "      <td>4.0</td>\n",
       "      <td>2013</td>\n",
       "    </tr>\n",
       "    <tr>\n",
       "      <th>156</th>\n",
       "      <td>Harry Potter and the Prisoner of Azkaban: The ...</td>\n",
       "      <td>J.K. Rowling</td>\n",
       "      <td>4.9</td>\n",
       "      <td>3</td>\n",
       "      <td>4.0</td>\n",
       "      <td>2017</td>\n",
       "    </tr>\n",
       "    <tr>\n",
       "      <th>174</th>\n",
       "      <td>Humans of New York : Stories</td>\n",
       "      <td>Brandon Stanton</td>\n",
       "      <td>4.9</td>\n",
       "      <td>3</td>\n",
       "      <td>4.0</td>\n",
       "      <td>2015</td>\n",
       "    </tr>\n",
       "    <tr>\n",
       "      <th>...</th>\n",
       "      <td>...</td>\n",
       "      <td>...</td>\n",
       "      <td>...</td>\n",
       "      <td>...</td>\n",
       "      <td>...</td>\n",
       "      <td>...</td>\n",
       "    </tr>\n",
       "    <tr>\n",
       "      <th>393</th>\n",
       "      <td>The Goldfinch: A Novel (Pulitzer Prize for Fic...</td>\n",
       "      <td>Donna Tartt</td>\n",
       "      <td>3.9</td>\n",
       "      <td>1</td>\n",
       "      <td>2.4</td>\n",
       "      <td>2014</td>\n",
       "    </tr>\n",
       "    <tr>\n",
       "      <th>107</th>\n",
       "      <td>Fifty Shades of Grey: Book One of the Fifty Sh...</td>\n",
       "      <td>E L James</td>\n",
       "      <td>3.8</td>\n",
       "      <td>3</td>\n",
       "      <td>3.4</td>\n",
       "      <td>2013</td>\n",
       "    </tr>\n",
       "    <tr>\n",
       "      <th>106</th>\n",
       "      <td>Fifty Shades of Grey: Book One of the Fifty Sh...</td>\n",
       "      <td>E L James</td>\n",
       "      <td>3.8</td>\n",
       "      <td>1</td>\n",
       "      <td>2.4</td>\n",
       "      <td>2012</td>\n",
       "    </tr>\n",
       "    <tr>\n",
       "      <th>132</th>\n",
       "      <td>Go Set a Watchman: A Novel</td>\n",
       "      <td>Harper Lee</td>\n",
       "      <td>3.6</td>\n",
       "      <td>1</td>\n",
       "      <td>2.3</td>\n",
       "      <td>2015</td>\n",
       "    </tr>\n",
       "    <tr>\n",
       "      <th>353</th>\n",
       "      <td>The Casual Vacancy</td>\n",
       "      <td>J.K. Rowling</td>\n",
       "      <td>3.3</td>\n",
       "      <td>2</td>\n",
       "      <td>2.6</td>\n",
       "      <td>2012</td>\n",
       "    </tr>\n",
       "  </tbody>\n",
       "</table>\n",
       "<p>550 rows × 6 columns</p>\n",
       "</div>"
      ]
     },
     "execution_count": 19,
     "metadata": {},
     "output_type": "execute_result"
    }
   ],
   "execution_count": 19
  },
  {
   "metadata": {
    "ExecuteTime": {
     "end_time": "2025-07-10T21:09:02.924681Z",
     "start_time": "2025-07-10T21:09:02.918823Z"
    }
   },
   "cell_type": "code",
   "source": "",
   "id": "8249a67adc1a0014",
   "outputs": [],
   "execution_count": null
  }
 ],
 "metadata": {
  "kernelspec": {
   "display_name": "Python 3",
   "language": "python",
   "name": "python3"
  },
  "language_info": {
   "codemirror_mode": {
    "name": "ipython",
    "version": 2
   },
   "file_extension": ".py",
   "mimetype": "text/x-python",
   "name": "python",
   "nbconvert_exporter": "python",
   "pygments_lexer": "ipython2",
   "version": "2.7.6"
  }
 },
 "nbformat": 4,
 "nbformat_minor": 5
}
